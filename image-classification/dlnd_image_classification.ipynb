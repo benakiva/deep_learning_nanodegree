{
 "cells": [
  {
   "cell_type": "markdown",
   "metadata": {
    "collapsed": true
   },
   "source": [
    "# Image Classification\n",
    "In this project, you'll classify images from the [CIFAR-10 dataset](https://www.cs.toronto.edu/~kriz/cifar.html).  The dataset consists of airplanes, dogs, cats, and other objects. You'll preprocess the images, then train a convolutional neural network on all the samples. The images need to be normalized and the labels need to be one-hot encoded.  You'll get to apply what you learned and build a convolutional, max pooling, dropout, and fully connected layers.  At the end, you'll get to see your neural network's predictions on the sample images.\n",
    "## Get the Data\n",
    "Run the following cell to download the [CIFAR-10 dataset for python](https://www.cs.toronto.edu/~kriz/cifar-10-python.tar.gz)."
   ]
  },
  {
   "cell_type": "code",
   "execution_count": 1,
   "metadata": {
    "collapsed": false
   },
   "outputs": [
    {
     "name": "stderr",
     "output_type": "stream",
     "text": [
      "CIFAR-10 Dataset: 171MB [06:35, 431KB/s]                                \n"
     ]
    },
    {
     "name": "stdout",
     "output_type": "stream",
     "text": [
      "All files found!\n"
     ]
    }
   ],
   "source": [
    "\"\"\"\n",
    "DON'T MODIFY ANYTHING IN THIS CELL THAT IS BELOW THIS LINE\n",
    "\"\"\"\n",
    "from urllib.request import urlretrieve\n",
    "from os.path import isfile, isdir\n",
    "from tqdm import tqdm\n",
    "import problem_unittests as tests\n",
    "import tarfile\n",
    "\n",
    "cifar10_dataset_folder_path = 'cifar-10-batches-py'\n",
    "\n",
    "class DLProgress(tqdm):\n",
    "    last_block = 0\n",
    "\n",
    "    def hook(self, block_num=1, block_size=1, total_size=None):\n",
    "        self.total = total_size\n",
    "        self.update((block_num - self.last_block) * block_size)\n",
    "        self.last_block = block_num\n",
    "\n",
    "if not isfile('cifar-10-python.tar.gz'):\n",
    "    with DLProgress(unit='B', unit_scale=True, miniters=1, desc='CIFAR-10 Dataset') as pbar:\n",
    "        urlretrieve(\n",
    "            'https://www.cs.toronto.edu/~kriz/cifar-10-python.tar.gz',\n",
    "            'cifar-10-python.tar.gz',\n",
    "            pbar.hook)\n",
    "\n",
    "if not isdir(cifar10_dataset_folder_path):\n",
    "    with tarfile.open('cifar-10-python.tar.gz') as tar:\n",
    "        tar.extractall()\n",
    "        tar.close()\n",
    "\n",
    "\n",
    "tests.test_folder_path(cifar10_dataset_folder_path)"
   ]
  },
  {
   "cell_type": "markdown",
   "metadata": {},
   "source": [
    "## Explore the Data\n",
    "The dataset is broken into batches to prevent your machine from running out of memory.  The CIFAR-10 dataset consists of 5 batches, named `data_batch_1`, `data_batch_2`, etc.. Each batch contains the labels and images that are one of the following:\n",
    "* airplane\n",
    "* automobile\n",
    "* bird\n",
    "* cat\n",
    "* deer\n",
    "* dog\n",
    "* frog\n",
    "* horse\n",
    "* ship\n",
    "* truck\n",
    "\n",
    "Understanding a dataset is part of making predictions on the data.  Play around with the code cell below by changing the `batch_id` and `sample_id`. The `batch_id` is the id for a batch (1-5). The `sample_id` is the id for a image and label pair in the batch.\n",
    "\n",
    "Ask yourself \"What are all possible labels?\", \"What is the range of values for the image data?\", \"Are the labels in order or random?\".  Answers to questions like these will help you preprocess the data and end up with better predictions."
   ]
  },
  {
   "cell_type": "code",
   "execution_count": 2,
   "metadata": {
    "collapsed": false
   },
   "outputs": [
    {
     "name": "stdout",
     "output_type": "stream",
     "text": [
      "\n",
      "Stats of batch 1:\n",
      "Samples: 10000\n",
      "Label Counts: {0: 1005, 1: 974, 2: 1032, 3: 1016, 4: 999, 5: 937, 6: 1030, 7: 1001, 8: 1025, 9: 981}\n",
      "First 20 Labels: [6, 9, 9, 4, 1, 1, 2, 7, 8, 3, 4, 7, 7, 2, 9, 9, 9, 3, 2, 6]\n",
      "\n",
      "Example of Image 5:\n",
      "Image - Min Value: 0 Max Value: 252\n",
      "Image - Shape: (32, 32, 3)\n",
      "Label - Label Id: 1 Name: automobile\n"
     ]
    },
    {
     "data": {
      "image/png": "[encoded data removed]",
      "text/plain": [
       "<matplotlib.figure.Figure at 0x11dc19f28>"
      ]
     },
     "metadata": {
      "image/png": {
       "height": 250,
       "width": 253
      }
     },
     "output_type": "display_data"
    }
   ],
   "source": [
    "%matplotlib inline\n",
    "%config InlineBackend.figure_format = 'retina'\n",
    "\n",
    "import helper\n",
    "import numpy as np\n",
    "\n",
    "# Explore the dataset\n",
    "batch_id = 1\n",
    "sample_id = 5\n",
    "helper.display_stats(cifar10_dataset_folder_path, batch_id, sample_id)"
   ]
  },
  {
   "cell_type": "markdown",
   "metadata": {},
   "source": [
    "## Implement Preprocess Functions\n",
    "### Normalize\n",
    "In the cell below, implement the `normalize` function to take in image data, `x`, and return it as a normalized Numpy array. The values should be in the range of 0 to 1, inclusive.  The return object should be the same shape as `x`."
   ]
  },
  {
   "cell_type": "code",
   "execution_count": 3,
   "metadata": {
    "collapsed": false
   },
   "outputs": [
    {
     "name": "stdout",
     "output_type": "stream",
     "text": [
      "Tests Passed\n"
     ]
    }
   ],
   "source": [
    "def normalize(x):\n",
    "    \"\"\"\n",
    "    Normalize a list of sample image data in the range of 0 to 1\n",
    "    : x: List of image data.  The image shape is (32, 32, 3)\n",
    "    : return: Numpy array of normalize data\n",
    "    \"\"\"\n",
    "    # TODO: Implement Function\n",
    "    _min = np.min(x)\n",
    "    _max = np.max(x)\n",
    "    return (x - _min)/(_max - _min)\n",
    "\n",
    "\n",
    "\"\"\"\n",
    "DON'T MODIFY ANYTHING IN THIS CELL THAT IS BELOW THIS LINE\n",
    "\"\"\"\n",
    "tests.test_normalize(normalize)"
   ]
  },
  {
   "cell_type": "markdown",
   "metadata": {},
   "source": [
    "### One-hot encode\n",
    "Just like the previous code cell, you'll be implementing a function for preprocessing.  This time, you'll implement the `one_hot_encode` function. The input, `x`, are a list of labels.  Implement the function to return the list of labels as One-Hot encoded Numpy array.  The possible values for labels are 0 to 9. The one-hot encoding function should return the same encoding for each value between each call to `one_hot_encode`.  Make sure to save the map of encodings outside the function.\n",
    "\n",
    "Hint: Don't reinvent the wheel."
   ]
  },
  {
   "cell_type": "code",
   "execution_count": 4,
   "metadata": {
    "collapsed": false
   },
   "outputs": [
    {
     "name": "stdout",
     "output_type": "stream",
     "text": [
      "Tests Passed\n"
     ]
    }
   ],
   "source": [
    "def one_hot_encode(x):\n",
    "    \"\"\"\n",
    "    One hot encode a list of sample labels. Return a one-hot encoded vector for each label.\n",
    "    : x: List of sample Labels\n",
    "    : return: Numpy array of one-hot encoded labels\n",
    "    \"\"\"\n",
    "    # TODO: Implement Function\n",
    "    return np.eye(10)[x]\n",
    "\n",
    "\n",
    "\"\"\"\n",
    "DON'T MODIFY ANYTHING IN THIS CELL THAT IS BELOW THIS LINE\n",
    "\"\"\"\n",
    "tests.test_one_hot_encode(one_hot_encode)"
   ]
  },
  {
   "cell_type": "markdown",
   "metadata": {},
   "source": [
    "### Randomize Data\n",
    "As you saw from exploring the data above, the order of the samples are randomized.  It doesn't hurt to randomize it again, but you don't need to for this dataset."
   ]
  },
  {
   "cell_type": "markdown",
   "metadata": {},
   "source": [
    "## Preprocess all the data and save it\n",
    "Running the code cell below will preprocess all the CIFAR-10 data and save it to file. The code below also uses 10% of the training data for validation."
   ]
  },
  {
   "cell_type": "code",
   "execution_count": 5,
   "metadata": {
    "collapsed": false
   },
   "outputs": [],
   "source": [
    "\"\"\"\n",
    "DON'T MODIFY ANYTHING IN THIS CELL\n",
    "\"\"\"\n",
    "# Preprocess Training, Validation, and Testing Data\n",
    "helper.preprocess_and_save_data(cifar10_dataset_folder_path, normalize, one_hot_encode)"
   ]
  },
  {
   "cell_type": "markdown",
   "metadata": {},
   "source": [
    "# Check Point\n",
    "This is your first checkpoint.  If you ever decide to come back to this notebook or have to restart the notebook, you can start from here.  The preprocessed data has been saved to disk."
   ]
  },
  {
   "cell_type": "code",
   "execution_count": 6,
   "metadata": {
    "collapsed": true
   },
   "outputs": [],
   "source": [
    "\"\"\"\n",
    "DON'T MODIFY ANYTHING IN THIS CELL\n",
    "\"\"\"\n",
    "import pickle\n",
    "import problem_unittests as tests\n",
    "import helper\n",
    "\n",
    "# Load the Preprocessed Validation data\n",
    "valid_features, valid_labels = pickle.load(open('preprocess_validation.p', mode='rb'))"
   ]
  },
  {
   "cell_type": "markdown",
   "metadata": {},
   "source": [
    "## Build the network\n",
    "For the neural network, you'll build each layer into a function.  Most of the code you've seen has been outside of functions. To test your code more thoroughly, we require that you put each layer in a function.  This allows us to give you better feedback and test for simple mistakes using our unittests before you submit your project.\n",
    "\n",
    ">**Note:** If you're finding it hard to dedicate enough time for this course each week, we've provided a small shortcut to this part of the project. In the next couple of problems, you'll have the option to use classes from the [TensorFlow Layers](https://www.tensorflow.org/api_docs/python/tf/layers) or [TensorFlow Layers (contrib)](https://www.tensorflow.org/api_guides/python/contrib.layers) packages to build each layer, except the layers you build in the \"Convolutional and Max Pooling Layer\" section.  TF Layers is similar to Keras's and TFLearn's abstraction to layers, so it's easy to pickup.\n",
    "\n",
    ">However, if you would like to get the most out of this course, try to solve all the problems _without_ using anything from the TF Layers packages. You **can** still use classes from other packages that happen to have the same name as ones you find in TF Layers! For example, instead of using the TF Layers version of the `conv2d` class, [tf.layers.conv2d](https://www.tensorflow.org/api_docs/python/tf/layers/conv2d), you would want to use the TF Neural Network version of `conv2d`, [tf.nn.conv2d](https://www.tensorflow.org/api_docs/python/tf/nn/conv2d). \n",
    "\n",
    "Let's begin!\n",
    "\n",
    "### Input\n",
    "The neural network needs to read the image data, one-hot encoded labels, and dropout keep probability. Implement the following functions\n",
    "* Implement `neural_net_image_input`\n",
    " * Return a [TF Placeholder](https://www.tensorflow.org/api_docs/python/tf/placeholder)\n",
    " * Set the shape using `image_shape` with batch size set to `None`.\n",
    " * Name the TensorFlow placeholder \"x\" using the TensorFlow `name` parameter in the [TF Placeholder](https://www.tensorflow.org/api_docs/python/tf/placeholder).\n",
    "* Implement `neural_net_label_input`\n",
    " * Return a [TF Placeholder](https://www.tensorflow.org/api_docs/python/tf/placeholder)\n",
    " * Set the shape using `n_classes` with batch size set to `None`.\n",
    " * Name the TensorFlow placeholder \"y\" using the TensorFlow `name` parameter in the [TF Placeholder](https://www.tensorflow.org/api_docs/python/tf/placeholder).\n",
    "* Implement `neural_net_keep_prob_input`\n",
    " * Return a [TF Placeholder](https://www.tensorflow.org/api_docs/python/tf/placeholder) for dropout keep probability.\n",
    " * Name the TensorFlow placeholder \"keep_prob\" using the TensorFlow `name` parameter in the [TF Placeholder](https://www.tensorflow.org/api_docs/python/tf/placeholder).\n",
    "\n",
    "These names will be used at the end of the project to load your saved model.\n",
    "\n",
    "Note: `None` for shapes in TensorFlow allow for a dynamic size."
   ]
  },
  {
   "cell_type": "code",
   "execution_count": 7,
   "metadata": {
    "collapsed": false
   },
   "outputs": [
    {
     "name": "stdout",
     "output_type": "stream",
     "text": [
      "Image Input Tests Passed.\n",
      "Label Input Tests Passed.\n",
      "Keep Prob Tests Passed.\n"
     ]
    }
   ],
   "source": [
    "import tensorflow as tf\n",
    "\n",
    "def neural_net_image_input(image_shape):\n",
    "    \"\"\"\n",
    "    Return a Tensor for a bach of image input\n",
    "    : image_shape: Shape of the images\n",
    "    : return: Tensor for image input.\n",
    "    \"\"\"\n",
    "    # TODO: Implement Function\n",
    "    return tf.placeholder(tf.float32, [None, *image_shape], name='x')\n",
    "\n",
    "\n",
    "def neural_net_label_input(n_classes):\n",
    "    \"\"\"\n",
    "    Return a Tensor for a batch of label input\n",
    "    : n_classes: Number of classes\n",
    "    : return: Tensor for label input.\n",
    "    \"\"\"\n",
    "    # TODO: Implement Function\n",
    "    return tf.placeholder(tf.float32, [None, n_classes], name='y')\n",
    "\n",
    "\n",
    "def neural_net_keep_prob_input():\n",
    "    \"\"\"\n",
    "    Return a Tensor for keep probability\n",
    "    : return: Tensor for keep probability.\n",
    "    \"\"\"\n",
    "    # TODO: Implement Function\n",
    "    return tf.placeholder(tf.float32, name='keep_prob')\n",
    "\n",
    "\n",
    "\"\"\"\n",
    "DON'T MODIFY ANYTHING IN THIS CELL THAT IS BELOW THIS LINE\n",
    "\"\"\"\n",
    "tf.reset_default_graph()\n",
    "tests.test_nn_image_inputs(neural_net_image_input)\n",
    "tests.test_nn_label_inputs(neural_net_label_input)\n",
    "tests.test_nn_keep_prob_inputs(neural_net_keep_prob_input)"
   ]
  },
  {
   "cell_type": "markdown",
   "metadata": {},
   "source": [
    "### Convolution and Max Pooling Layer\n",
    "Convolution layers have a lot of success with images. For this code cell, you should implement the function `conv2d_maxpool` to apply convolution then max pooling:\n",
    "* Create the weight and bias using `conv_ksize`, `conv_num_outputs` and the shape of `x_tensor`.\n",
    "* Apply a convolution to `x_tensor` using weight and `conv_strides`.\n",
    " * We recommend you use same padding, but you're welcome to use any padding.\n",
    "* Add bias\n",
    "* Add a nonlinear activation to the convolution.\n",
    "* Apply Max Pooling using `pool_ksize` and `pool_strides`.\n",
    " * We recommend you use same padding, but you're welcome to use any padding.\n",
    "\n",
    "**Note:** You **can't** use [TensorFlow Layers](https://www.tensorflow.org/api_docs/python/tf/layers) or [TensorFlow Layers (contrib)](https://www.tensorflow.org/api_guides/python/contrib.layers) for **this** layer, but you can still use TensorFlow's [Neural Network](https://www.tensorflow.org/api_docs/python/tf/nn) package. You may still use the shortcut option for all the **other** layers."
   ]
  },
  {
   "cell_type": "code",
   "execution_count": 23,
   "metadata": {
    "collapsed": false
   },
   "outputs": [
    {
     "name": "stdout",
     "output_type": "stream",
     "text": [
      "Tests Passed\n"
     ]
    }
   ],
   "source": [
    "def conv2d_maxpool(x_tensor, conv_num_outputs, conv_ksize, conv_strides, pool_ksize, pool_strides):\n",
    "    \"\"\"\n",
    "    Apply convolution then max pooling to x_tensor\n",
    "    :param x_tensor: TensorFlow Tensor\n",
    "    :param conv_num_outputs: Number of outputs for the convolutional layer\n",
    "    :param conv_ksize: kernal size 2-D Tuple for the convolutional layer\n",
    "    :param conv_strides: Stride 2-D Tuple for convolution\n",
    "    :param pool_ksize: kernal size 2-D Tuple for pool\n",
    "    :param pool_strides: Stride 2-D Tuple for pool\n",
    "    : return: A tensor that represents convolution and max pooling of x_tensor\n",
    "    \"\"\"\n",
    "    # TODO: Implement Function\n",
    "    in_depth = int(x_tensor.shape[3])\n",
    "    out_depth = conv_num_outputs\n",
    "    w_shape = [*conv_ksize, in_depth, out_depth]\n",
    "    W = tf.Variable(tf.random_normal(w_shape, stddev=0.1))\n",
    "    b = tf.Variable(tf.zeros(out_depth))\n",
    "    \n",
    "    conv_strides = [1, *conv_strides, 1]\n",
    "    x = tf.nn.conv2d(x_tensor, W, strides=conv_strides, padding='SAME')\n",
    "    \n",
    "    x = tf.nn.bias_add(x, b)\n",
    "    x = tf.nn.relu(x)\n",
    "    \n",
    "    pool_ksize = [1, *pool_ksize, 1]\n",
    "    pool_strides = [1, *pool_strides, 1]\n",
    "    x = tf.nn.max_pool(x, pool_ksize, pool_strides, padding='SAME')\n",
    "    \n",
    "    return x \n",
    "\n",
    "\n",
    "\"\"\"\n",
    "DON'T MODIFY ANYTHING IN THIS CELL THAT IS BELOW THIS LINE\n",
    "\"\"\"\n",
    "tests.test_con_pool(conv2d_maxpool)"
   ]
  },
  {
   "cell_type": "markdown",
   "metadata": {},
   "source": [
    "### Flatten Layer\n",
    "Implement the `flatten` function to change the dimension of `x_tensor` from a 4-D tensor to a 2-D tensor.  The output should be the shape (*Batch Size*, *Flattened Image Size*). Shortcut option: you can use classes from the [TensorFlow Layers](https://www.tensorflow.org/api_docs/python/tf/layers) or [TensorFlow Layers (contrib)](https://www.tensorflow.org/api_guides/python/contrib.layers) packages for this layer. For more of a challenge, only use other TensorFlow packages."
   ]
  },
  {
   "cell_type": "code",
   "execution_count": 9,
   "metadata": {
    "collapsed": false
   },
   "outputs": [
    {
     "name": "stdout",
     "output_type": "stream",
     "text": [
      "Tests Passed\n"
     ]
    }
   ],
   "source": [
    "def flatten(x_tensor):\n",
    "    \"\"\"\n",
    "    Flatten x_tensor to (Batch Size, Flattened Image Size)\n",
    "    : x_tensor: A tensor of size (Batch Size, ...), where ... are the image dimensions.\n",
    "    : return: A tensor of size (Batch Size, Flattened Image Size).\n",
    "    \"\"\"\n",
    "    # TODO: Implement Function\n",
    "    batch_size, *img_size = x_tensor.get_shape().as_list()\n",
    "    img_size = img_size[0] * img_size[1] * img_size[2]\n",
    "    \n",
    "    return tf.reshape(x_tensor, [-1, img_size])\n",
    "\n",
    "\n",
    "\"\"\"\n",
    "DON'T MODIFY ANYTHING IN THIS CELL THAT IS BELOW THIS LINE\n",
    "\"\"\"\n",
    "tests.test_flatten(flatten)"
   ]
  },
  {
   "cell_type": "markdown",
   "metadata": {},
   "source": [
    "### Fully-Connected Layer\n",
    "Implement the `fully_conn` function to apply a fully connected layer to `x_tensor` with the shape (*Batch Size*, *num_outputs*). Shortcut option: you can use classes from the [TensorFlow Layers](https://www.tensorflow.org/api_docs/python/tf/layers) or [TensorFlow Layers (contrib)](https://www.tensorflow.org/api_guides/python/contrib.layers) packages for this layer. For more of a challenge, only use other TensorFlow packages."
   ]
  },
  {
   "cell_type": "code",
   "execution_count": 10,
   "metadata": {
    "collapsed": false
   },
   "outputs": [
    {
     "name": "stdout",
     "output_type": "stream",
     "text": [
      "Tests Passed\n"
     ]
    }
   ],
   "source": [
    "def fully_conn(x_tensor, num_outputs):\n",
    "    \"\"\"\n",
    "    Apply a fully connected layer to x_tensor using weight and bias\n",
    "    : x_tensor: A 2-D tensor where the first dimension is batch size.\n",
    "    : num_outputs: The number of output that the new tensor should be.\n",
    "    : return: A 2-D tensor where the second dimension is num_outputs.\n",
    "    \"\"\"\n",
    "    # TODO: Implement Function\n",
    "    w_shape = (int(x_tensor.get_shape().as_list()[1]), num_outputs)\n",
    "    W = tf.Variable(tf.random_normal(w_shape, stddev=0.1))\n",
    "    b = tf.Variable(tf.zeros(num_outputs))\n",
    "    x = tf.add(tf.matmul(x_tensor, W), b)\n",
    "    x = tf.nn.relu(x)\n",
    "    \n",
    "    return x\n",
    "\n",
    "\n",
    "\"\"\"\n",
    "DON'T MODIFY ANYTHING IN THIS CELL THAT IS BELOW THIS LINE\n",
    "\"\"\"\n",
    "tests.test_fully_conn(fully_conn)"
   ]
  },
  {
   "cell_type": "markdown",
   "metadata": {},
   "source": [
    "### Output Layer\n",
    "Implement the `output` function to apply a fully connected layer to `x_tensor` with the shape (*Batch Size*, *num_outputs*). Shortcut option: you can use classes from the [TensorFlow Layers](https://www.tensorflow.org/api_docs/python/tf/layers) or [TensorFlow Layers (contrib)](https://www.tensorflow.org/api_guides/python/contrib.layers) packages for this layer. For more of a challenge, only use other TensorFlow packages.\n",
    "\n",
    "**Note:** Activation, softmax, or cross entropy should **not** be applied to this."
   ]
  },
  {
   "cell_type": "code",
   "execution_count": 24,
   "metadata": {
    "collapsed": false
   },
   "outputs": [
    {
     "name": "stdout",
     "output_type": "stream",
     "text": [
      "Tests Passed\n"
     ]
    }
   ],
   "source": [
    "def output(x_tensor, num_outputs):\n",
    "    \"\"\"\n",
    "    Apply a output layer to x_tensor using weight and bias\n",
    "    : x_tensor: A 2-D tensor where the first dimension is batch size.\n",
    "    : num_outputs: The number of output that the new tensor should be.\n",
    "    : return: A 2-D tensor where the second dimension is num_outputs.\n",
    "    \"\"\"\n",
    "    # TODO: Implement Function\n",
    "    w_shape = [int(x_tensor.get_shape().as_list()[1]), num_outputs]\n",
    "    W = tf.Variable(tf.random_normal(w_shape, stddev=0.1))\n",
    "    b = tf.Variable(tf.zeros(num_outputs)) \n",
    "    \n",
    "    return tf.add(tf.matmul(x_tensor, W), b)\n",
    "\n",
    "\n",
    "\"\"\"\n",
    "DON'T MODIFY ANYTHING IN THIS CELL THAT IS BELOW THIS LINE\n",
    "\"\"\"\n",
    "tests.test_output(output)"
   ]
  },
  {
   "cell_type": "markdown",
   "metadata": {},
   "source": [
    "### Create Convolutional Model\n",
    "Implement the function `conv_net` to create a convolutional neural network model. The function takes in a batch of images, `x`, and outputs logits.  Use the layers you created above to create this model:\n",
    "\n",
    "* Apply 1, 2, or 3 Convolution and Max Pool layers\n",
    "* Apply a Flatten Layer\n",
    "* Apply 1, 2, or 3 Fully Connected Layers\n",
    "* Apply an Output Layer\n",
    "* Return the output\n",
    "* Apply [TensorFlow's Dropout](https://www.tensorflow.org/api_docs/python/tf/nn/dropout) to one or more layers in the model using `keep_prob`. "
   ]
  },
  {
   "cell_type": "code",
   "execution_count": 12,
   "metadata": {
    "collapsed": false
   },
   "outputs": [
    {
     "name": "stdout",
     "output_type": "stream",
     "text": [
      "Neural Network Built!\n"
     ]
    }
   ],
   "source": [
    "def conv_net(x, keep_prob):\n",
    "    \"\"\"\n",
    "    Create a convolutional neural network model\n",
    "    : x: Placeholder tensor that holds image data.\n",
    "    : keep_prob: Placeholder tensor that hold dropout keep probability.\n",
    "    : return: Tensor that represents logits\n",
    "    \"\"\"\n",
    "    # TODO: Apply 1, 2, or 3 Convolution and Max Pool layers\n",
    "    #    Play around with different number of outputs, kernel size and stride\n",
    "    # Function Definition from Above:\n",
    "    #    conv2d_maxpool(x_tensor, conv_num_outputs, conv_ksize, conv_strides, pool_ksize, pool_strides)\n",
    "    x = conv2d_maxpool(x, 32, (3, 3), (1, 1), (2, 2), (2, 2))\n",
    "    x = conv2d_maxpool(x, 32, (3, 3), (2, 2), (2, 2), (2, 2))\n",
    "    x = conv2d_maxpool(x, 64, (3, 3), (1, 1), (2, 2), (2, 2))\n",
    "\n",
    "    # TODO: Apply a Flatten Layer\n",
    "    # Function Definition from Above:\n",
    "    #   flatten(x_tensor)\n",
    "    x = flatten(x)\n",
    "\n",
    "    # TODO: Apply 1, 2, or 3 Fully Connected Layers\n",
    "    #    Play around with different number of outputs\n",
    "    # Function Definition from Above:\n",
    "    #   fully_conn(x_tensor, num_outputs)\n",
    "    x = fully_conn(x, 512)\n",
    "    x = tf.nn.dropout(x, keep_prob)\n",
    "    x = fully_conn(x, 128)\n",
    "    x = tf.nn.dropout(x, keep_prob)\n",
    "    \n",
    "    # TODO: Apply an Output Layer\n",
    "    #    Set this to the number of classes\n",
    "    # Function Definition from Above:\n",
    "    #   output(x_tensor, num_outputs)\n",
    "    ret_output = output(x, 10)\n",
    "    \n",
    "    # TODO: return output\n",
    "    return ret_output\n",
    "\n",
    "\n",
    "\"\"\"\n",
    "DON'T MODIFY ANYTHING IN THIS CELL THAT IS BELOW THIS LINE\n",
    "\"\"\"\n",
    "\n",
    "##############################\n",
    "## Build the Neural Network ##\n",
    "##############################\n",
    "\n",
    "# Remove previous weights, bias, inputs, etc..\n",
    "tf.reset_default_graph()\n",
    "\n",
    "# Inputs\n",
    "x = neural_net_image_input((32, 32, 3))\n",
    "y = neural_net_label_input(10)\n",
    "keep_prob = neural_net_keep_prob_input()\n",
    "\n",
    "# Model\n",
    "logits = conv_net(x, keep_prob)\n",
    "\n",
    "# Name logits Tensor, so that is can be loaded from disk after training\n",
    "logits = tf.identity(logits, name='logits')\n",
    "\n",
    "# Loss and Optimizer\n",
    "cost = tf.reduce_mean(tf.nn.softmax_cross_entropy_with_logits(logits=logits, labels=y))\n",
    "optimizer = tf.train.AdamOptimizer().minimize(cost)\n",
    "\n",
    "# Accuracy\n",
    "correct_pred = tf.equal(tf.argmax(logits, 1), tf.argmax(y, 1))\n",
    "accuracy = tf.reduce_mean(tf.cast(correct_pred, tf.float32), name='accuracy')\n",
    "\n",
    "tests.test_conv_net(conv_net)"
   ]
  },
  {
   "cell_type": "markdown",
   "metadata": {},
   "source": [
    "## Train the Neural Network\n",
    "### Single Optimization\n",
    "Implement the function `train_neural_network` to do a single optimization.  The optimization should use `optimizer` to optimize in `session` with a `feed_dict` of the following:\n",
    "* `x` for image input\n",
    "* `y` for labels\n",
    "* `keep_prob` for keep probability for dropout\n",
    "\n",
    "This function will be called for each batch, so `tf.global_variables_initializer()` has already been called.\n",
    "\n",
    "Note: Nothing needs to be returned. This function is only optimizing the neural network."
   ]
  },
  {
   "cell_type": "code",
   "execution_count": 13,
   "metadata": {
    "collapsed": false
   },
   "outputs": [
    {
     "name": "stdout",
     "output_type": "stream",
     "text": [
      "Tests Passed\n"
     ]
    }
   ],
   "source": [
    "def train_neural_network(session, optimizer, keep_probability, feature_batch, label_batch):\n",
    "    \"\"\"\n",
    "    Optimize the session on a batch of images and labels\n",
    "    : session: Current TensorFlow session\n",
    "    : optimizer: TensorFlow optimizer function\n",
    "    : keep_probability: keep probability\n",
    "    : feature_batch: Batch of Numpy image data\n",
    "    : label_batch: Batch of Numpy label data\n",
    "    \"\"\"\n",
    "    # TODO: Implement Function\n",
    "    session.run(optimizer, feed_dict={x: feature_batch, y: label_batch, keep_prob: keep_probability})\n",
    "\n",
    "\n",
    "\"\"\"\n",
    "DON'T MODIFY ANYTHING IN THIS CELL THAT IS BELOW THIS LINE\n",
    "\"\"\"\n",
    "tests.test_train_nn(train_neural_network)"
   ]
  },
  {
   "cell_type": "markdown",
   "metadata": {},
   "source": [
    "### Show Stats\n",
    "Implement the function `print_stats` to print loss and validation accuracy.  Use the global variables `valid_features` and `valid_labels` to calculate validation accuracy.  Use a keep probability of `1.0` to calculate the loss and validation accuracy."
   ]
  },
  {
   "cell_type": "code",
   "execution_count": 25,
   "metadata": {
    "collapsed": false
   },
   "outputs": [],
   "source": [
    "def print_stats(session, feature_batch, label_batch, cost, accuracy):\n",
    "    \"\"\"\n",
    "    Print information about loss and validation accuracy\n",
    "    : session: Current TensorFlow session\n",
    "    : feature_batch: Batch of Numpy image data\n",
    "    : label_batch: Batch of Numpy label data\n",
    "    : cost: TensorFlow cost function\n",
    "    : accuracy: TensorFlow accuracy function\n",
    "    \"\"\"\n",
    "    # TODO: Implement Function\n",
    "    validation_accuracy = session.run(accuracy, feed_dict={x: valid_features, y: valid_labels,\n",
    "        keep_prob: 1.})\n",
    "    \n",
    "    loss = session.run(cost, feed_dict={x: feature_batch, y: label_batch, keep_prob: 1.})\n",
    "\n",
    "    print('Loss: {:>10.4f} Validation Accuracy: {:.6f}'.format(loss, validation_accuracy))"
   ]
  },
  {
   "cell_type": "markdown",
   "metadata": {},
   "source": [
    "### Hyperparameters\n",
    "Tune the following parameters:\n",
    "* Set `epochs` to the number of iterations until the network stops learning or start overfitting\n",
    "* Set `batch_size` to the highest number that your machine has memory for.  Most people set them to common sizes of memory:\n",
    " * 64\n",
    " * 128\n",
    " * 256\n",
    " * ...\n",
    "* Set `keep_probability` to the probability of keeping a node using dropout"
   ]
  },
  {
   "cell_type": "code",
   "execution_count": 26,
   "metadata": {
    "collapsed": true
   },
   "outputs": [],
   "source": [
    "# TODO: Tune Parameters\n",
    "epochs = 50\n",
    "batch_size = 512\n",
    "keep_probability = 0.5"
   ]
  },
  {
   "cell_type": "markdown",
   "metadata": {},
   "source": [
    "### Train on a Single CIFAR-10 Batch\n",
    "Instead of training the neural network on all the CIFAR-10 batches of data, let's use a single batch. This should save time while you iterate on the model to get a better accuracy.  Once the final validation accuracy is 50% or greater, run the model on all the data in the next section."
   ]
  },
  {
   "cell_type": "code",
   "execution_count": 27,
   "metadata": {
    "collapsed": false
   },
   "outputs": [
    {
     "name": "stdout",
     "output_type": "stream",
     "text": [
      "Checking the Training on a Single Batch...\n",
      "Epoch  1, CIFAR-10 Batch 1:  Loss:     2.2763 Validation Accuracy: 0.185200\n",
      "Epoch  2, CIFAR-10 Batch 1:  Loss:     2.1465 Validation Accuracy: 0.207400\n",
      "Epoch  3, CIFAR-10 Batch 1:  Loss:     2.0468 Validation Accuracy: 0.283600\n",
      "Epoch  4, CIFAR-10 Batch 1:  Loss:     1.9130 Validation Accuracy: 0.343000\n",
      "Epoch  5, CIFAR-10 Batch 1:  Loss:     1.7901 Validation Accuracy: 0.369200\n",
      "Epoch  6, CIFAR-10 Batch 1:  Loss:     1.7084 Validation Accuracy: 0.383600\n",
      "Epoch  7, CIFAR-10 Batch 1:  Loss:     1.6700 Validation Accuracy: 0.390600\n",
      "Epoch  8, CIFAR-10 Batch 1:  Loss:     1.5772 Validation Accuracy: 0.422600\n",
      "Epoch  9, CIFAR-10 Batch 1:  Loss:     1.5255 Validation Accuracy: 0.442800\n",
      "Epoch 10, CIFAR-10 Batch 1:  Loss:     1.4807 Validation Accuracy: 0.449800\n",
      "Epoch 11, CIFAR-10 Batch 1:  Loss:     1.4230 Validation Accuracy: 0.460400\n",
      "Epoch 12, CIFAR-10 Batch 1:  Loss:     1.3796 Validation Accuracy: 0.475600\n",
      "Epoch 13, CIFAR-10 Batch 1:  Loss:     1.3232 Validation Accuracy: 0.483800\n",
      "Epoch 14, CIFAR-10 Batch 1:  Loss:     1.2851 Validation Accuracy: 0.490600\n",
      "Epoch 15, CIFAR-10 Batch 1:  Loss:     1.2676 Validation Accuracy: 0.495000\n",
      "Epoch 16, CIFAR-10 Batch 1:  Loss:     1.2377 Validation Accuracy: 0.494400\n",
      "Epoch 17, CIFAR-10 Batch 1:  Loss:     1.1847 Validation Accuracy: 0.503200\n",
      "Epoch 18, CIFAR-10 Batch 1:  Loss:     1.1236 Validation Accuracy: 0.510400\n",
      "Epoch 19, CIFAR-10 Batch 1:  Loss:     1.0809 Validation Accuracy: 0.513200\n",
      "Epoch 20, CIFAR-10 Batch 1:  Loss:     1.0481 Validation Accuracy: 0.521000\n",
      "Epoch 21, CIFAR-10 Batch 1:  Loss:     1.0355 Validation Accuracy: 0.516400\n",
      "Epoch 22, CIFAR-10 Batch 1:  Loss:     1.0245 Validation Accuracy: 0.520000\n",
      "Epoch 23, CIFAR-10 Batch 1:  Loss:     0.9614 Validation Accuracy: 0.529400\n",
      "Epoch 24, CIFAR-10 Batch 1:  Loss:     0.9377 Validation Accuracy: 0.534200\n",
      "Epoch 25, CIFAR-10 Batch 1:  Loss:     0.8948 Validation Accuracy: 0.537600\n",
      "Epoch 26, CIFAR-10 Batch 1:  Loss:     0.8826 Validation Accuracy: 0.538200\n",
      "Epoch 27, CIFAR-10 Batch 1:  Loss:     0.8479 Validation Accuracy: 0.542000\n",
      "Epoch 28, CIFAR-10 Batch 1:  Loss:     0.8261 Validation Accuracy: 0.544200\n",
      "Epoch 29, CIFAR-10 Batch 1:  Loss:     0.7797 Validation Accuracy: 0.549800\n",
      "Epoch 30, CIFAR-10 Batch 1:  Loss:     0.7482 Validation Accuracy: 0.548800\n",
      "Epoch 31, CIFAR-10 Batch 1:  Loss:     0.7503 Validation Accuracy: 0.544800\n",
      "Epoch 32, CIFAR-10 Batch 1:  Loss:     0.7219 Validation Accuracy: 0.549000\n",
      "Epoch 33, CIFAR-10 Batch 1:  Loss:     0.6972 Validation Accuracy: 0.544800\n",
      "Epoch 34, CIFAR-10 Batch 1:  Loss:     0.7294 Validation Accuracy: 0.537600\n",
      "Epoch 35, CIFAR-10 Batch 1:  Loss:     0.6193 Validation Accuracy: 0.555800\n",
      "Epoch 36, CIFAR-10 Batch 1:  Loss:     0.6052 Validation Accuracy: 0.556200\n",
      "Epoch 37, CIFAR-10 Batch 1:  Loss:     0.5833 Validation Accuracy: 0.553800\n",
      "Epoch 38, CIFAR-10 Batch 1:  Loss:     0.6540 Validation Accuracy: 0.532400\n",
      "Epoch 39, CIFAR-10 Batch 1:  Loss:     0.5819 Validation Accuracy: 0.550800\n",
      "Epoch 40, CIFAR-10 Batch 1:  Loss:     0.5638 Validation Accuracy: 0.547000\n",
      "Epoch 41, CIFAR-10 Batch 1:  Loss:     0.5426 Validation Accuracy: 0.540000\n",
      "Epoch 42, CIFAR-10 Batch 1:  Loss:     0.5382 Validation Accuracy: 0.542000\n",
      "Epoch 43, CIFAR-10 Batch 1:  Loss:     0.4943 Validation Accuracy: 0.558200\n",
      "Epoch 44, CIFAR-10 Batch 1:  Loss:     0.5093 Validation Accuracy: 0.547600\n",
      "Epoch 45, CIFAR-10 Batch 1:  Loss:     0.4674 Validation Accuracy: 0.548800\n",
      "Epoch 46, CIFAR-10 Batch 1:  Loss:     0.4512 Validation Accuracy: 0.553000\n",
      "Epoch 47, CIFAR-10 Batch 1:  Loss:     0.4082 Validation Accuracy: 0.562000\n",
      "Epoch 48, CIFAR-10 Batch 1:  Loss:     0.3936 Validation Accuracy: 0.560400\n",
      "Epoch 49, CIFAR-10 Batch 1:  Loss:     0.4395 Validation Accuracy: 0.543000\n",
      "Epoch 50, CIFAR-10 Batch 1:  Loss:     0.4228 Validation Accuracy: 0.543200\n"
     ]
    }
   ],
   "source": [
    "\"\"\"\n",
    "DON'T MODIFY ANYTHING IN THIS CELL\n",
    "\"\"\"\n",
    "print('Checking the Training on a Single Batch...')\n",
    "with tf.Session() as sess:\n",
    "    # Initializing the variables\n",
    "    sess.run(tf.global_variables_initializer())\n",
    "    \n",
    "    # Training cycle\n",
    "    for epoch in range(epochs):\n",
    "        batch_i = 1\n",
    "        for batch_features, batch_labels in helper.load_preprocess_training_batch(batch_i, batch_size):\n",
    "            train_neural_network(sess, optimizer, keep_probability, batch_features, batch_labels)\n",
    "        print('Epoch {:>2}, CIFAR-10 Batch {}:  '.format(epoch + 1, batch_i), end='')\n",
    "        print_stats(sess, batch_features, batch_labels, cost, accuracy)"
   ]
  },
  {
   "cell_type": "markdown",
   "metadata": {},
   "source": [
    "### Fully Train the Model\n",
    "Now that you got a good accuracy with a single CIFAR-10 batch, try it with all five batches."
   ]
  },
  {
   "cell_type": "code",
   "execution_count": 28,
   "metadata": {
    "collapsed": false,
    "scrolled": false
   },
   "outputs": [
    {
     "name": "stdout",
     "output_type": "stream",
     "text": [
      "Training...\n",
      "Epoch  1, CIFAR-10 Batch 1:  Loss:     2.2528 Validation Accuracy: 0.177800\n",
      "Epoch  1, CIFAR-10 Batch 2:  Loss:     2.1118 Validation Accuracy: 0.255800\n",
      "Epoch  1, CIFAR-10 Batch 3:  Loss:     1.9078 Validation Accuracy: 0.308000\n",
      "Epoch  1, CIFAR-10 Batch 4:  Loss:     1.7641 Validation Accuracy: 0.337400\n",
      "Epoch  1, CIFAR-10 Batch 5:  Loss:     1.7407 Validation Accuracy: 0.361000\n",
      "Epoch  2, CIFAR-10 Batch 1:  Loss:     1.7546 Validation Accuracy: 0.392000\n",
      "Epoch  2, CIFAR-10 Batch 2:  Loss:     1.6385 Validation Accuracy: 0.411200\n",
      "Epoch  2, CIFAR-10 Batch 3:  Loss:     1.4399 Validation Accuracy: 0.422400\n",
      "Epoch  2, CIFAR-10 Batch 4:  Loss:     1.4530 Validation Accuracy: 0.440800\n",
      "Epoch  2, CIFAR-10 Batch 5:  Loss:     1.4575 Validation Accuracy: 0.445200\n",
      "Epoch  3, CIFAR-10 Batch 1:  Loss:     1.5248 Validation Accuracy: 0.458800\n",
      "Epoch  3, CIFAR-10 Batch 2:  Loss:     1.4660 Validation Accuracy: 0.475600\n",
      "Epoch  3, CIFAR-10 Batch 3:  Loss:     1.2433 Validation Accuracy: 0.476000\n",
      "Epoch  3, CIFAR-10 Batch 4:  Loss:     1.3111 Validation Accuracy: 0.485000\n",
      "Epoch  3, CIFAR-10 Batch 5:  Loss:     1.3195 Validation Accuracy: 0.485200\n",
      "Epoch  4, CIFAR-10 Batch 1:  Loss:     1.3857 Validation Accuracy: 0.500000\n",
      "Epoch  4, CIFAR-10 Batch 2:  Loss:     1.3648 Validation Accuracy: 0.509800\n",
      "Epoch  4, CIFAR-10 Batch 3:  Loss:     1.1465 Validation Accuracy: 0.516400\n",
      "Epoch  4, CIFAR-10 Batch 4:  Loss:     1.1903 Validation Accuracy: 0.529800\n",
      "Epoch  4, CIFAR-10 Batch 5:  Loss:     1.2196 Validation Accuracy: 0.530200\n",
      "Epoch  5, CIFAR-10 Batch 1:  Loss:     1.2923 Validation Accuracy: 0.532800\n",
      "Epoch  5, CIFAR-10 Batch 2:  Loss:     1.2917 Validation Accuracy: 0.540000\n",
      "Epoch  5, CIFAR-10 Batch 3:  Loss:     1.0940 Validation Accuracy: 0.542200\n",
      "Epoch  5, CIFAR-10 Batch 4:  Loss:     1.1093 Validation Accuracy: 0.548000\n",
      "Epoch  5, CIFAR-10 Batch 5:  Loss:     1.1597 Validation Accuracy: 0.545400\n",
      "Epoch  6, CIFAR-10 Batch 1:  Loss:     1.2002 Validation Accuracy: 0.554000\n",
      "Epoch  6, CIFAR-10 Batch 2:  Loss:     1.2135 Validation Accuracy: 0.558200\n",
      "Epoch  6, CIFAR-10 Batch 3:  Loss:     1.0465 Validation Accuracy: 0.563800\n",
      "Epoch  6, CIFAR-10 Batch 4:  Loss:     1.0462 Validation Accuracy: 0.573200\n",
      "Epoch  6, CIFAR-10 Batch 5:  Loss:     1.0912 Validation Accuracy: 0.567800\n",
      "Epoch  7, CIFAR-10 Batch 1:  Loss:     1.1355 Validation Accuracy: 0.576600\n",
      "Epoch  7, CIFAR-10 Batch 2:  Loss:     1.1557 Validation Accuracy: 0.579400\n",
      "Epoch  7, CIFAR-10 Batch 3:  Loss:     0.9880 Validation Accuracy: 0.585200\n",
      "Epoch  7, CIFAR-10 Batch 4:  Loss:     0.9986 Validation Accuracy: 0.585600\n",
      "Epoch  7, CIFAR-10 Batch 5:  Loss:     1.0454 Validation Accuracy: 0.577400\n",
      "Epoch  8, CIFAR-10 Batch 1:  Loss:     1.0595 Validation Accuracy: 0.579000\n",
      "Epoch  8, CIFAR-10 Batch 2:  Loss:     1.0996 Validation Accuracy: 0.589000\n",
      "Epoch  8, CIFAR-10 Batch 3:  Loss:     0.9753 Validation Accuracy: 0.584600\n",
      "Epoch  8, CIFAR-10 Batch 4:  Loss:     0.9509 Validation Accuracy: 0.590000\n",
      "Epoch  8, CIFAR-10 Batch 5:  Loss:     1.0199 Validation Accuracy: 0.576200\n",
      "Epoch  9, CIFAR-10 Batch 1:  Loss:     1.0088 Validation Accuracy: 0.600600\n",
      "Epoch  9, CIFAR-10 Batch 2:  Loss:     1.0765 Validation Accuracy: 0.599400\n",
      "Epoch  9, CIFAR-10 Batch 3:  Loss:     0.9101 Validation Accuracy: 0.600000\n",
      "Epoch  9, CIFAR-10 Batch 4:  Loss:     0.9140 Validation Accuracy: 0.602400\n",
      "Epoch  9, CIFAR-10 Batch 5:  Loss:     0.9413 Validation Accuracy: 0.602200\n",
      "Epoch 10, CIFAR-10 Batch 1:  Loss:     0.9755 Validation Accuracy: 0.595400\n",
      "Epoch 10, CIFAR-10 Batch 2:  Loss:     1.0319 Validation Accuracy: 0.604600\n",
      "Epoch 10, CIFAR-10 Batch 3:  Loss:     0.9178 Validation Accuracy: 0.605000\n",
      "Epoch 10, CIFAR-10 Batch 4:  Loss:     0.8739 Validation Accuracy: 0.614800\n",
      "Epoch 10, CIFAR-10 Batch 5:  Loss:     0.9109 Validation Accuracy: 0.606600\n",
      "Epoch 11, CIFAR-10 Batch 1:  Loss:     0.9233 Validation Accuracy: 0.606000\n",
      "Epoch 11, CIFAR-10 Batch 2:  Loss:     0.9944 Validation Accuracy: 0.609600\n",
      "Epoch 11, CIFAR-10 Batch 3:  Loss:     0.8604 Validation Accuracy: 0.613800\n",
      "Epoch 11, CIFAR-10 Batch 4:  Loss:     0.8292 Validation Accuracy: 0.622800\n",
      "Epoch 11, CIFAR-10 Batch 5:  Loss:     0.8536 Validation Accuracy: 0.619000\n",
      "Epoch 12, CIFAR-10 Batch 1:  Loss:     0.9005 Validation Accuracy: 0.625200\n",
      "Epoch 12, CIFAR-10 Batch 2:  Loss:     0.9421 Validation Accuracy: 0.623600\n",
      "Epoch 12, CIFAR-10 Batch 3:  Loss:     0.8712 Validation Accuracy: 0.602800\n",
      "Epoch 12, CIFAR-10 Batch 4:  Loss:     0.8053 Validation Accuracy: 0.630000\n",
      "Epoch 12, CIFAR-10 Batch 5:  Loss:     0.8240 Validation Accuracy: 0.626000\n",
      "Epoch 13, CIFAR-10 Batch 1:  Loss:     0.8466 Validation Accuracy: 0.629400\n",
      "Epoch 13, CIFAR-10 Batch 2:  Loss:     0.9190 Validation Accuracy: 0.612400\n",
      "Epoch 13, CIFAR-10 Batch 3:  Loss:     0.8022 Validation Accuracy: 0.619800\n",
      "Epoch 13, CIFAR-10 Batch 4:  Loss:     0.7589 Validation Accuracy: 0.637600\n",
      "Epoch 13, CIFAR-10 Batch 5:  Loss:     0.7755 Validation Accuracy: 0.635600\n",
      "Epoch 14, CIFAR-10 Batch 1:  Loss:     0.8099 Validation Accuracy: 0.633800\n",
      "Epoch 14, CIFAR-10 Batch 2:  Loss:     0.8597 Validation Accuracy: 0.637400\n",
      "Epoch 14, CIFAR-10 Batch 3:  Loss:     0.7965 Validation Accuracy: 0.623400\n",
      "Epoch 14, CIFAR-10 Batch 4:  Loss:     0.7293 Validation Accuracy: 0.645600\n",
      "Epoch 14, CIFAR-10 Batch 5:  Loss:     0.7427 Validation Accuracy: 0.637000\n",
      "Epoch 15, CIFAR-10 Batch 1:  Loss:     0.7836 Validation Accuracy: 0.637400\n",
      "Epoch 15, CIFAR-10 Batch 2:  Loss:     0.8356 Validation Accuracy: 0.630600\n",
      "Epoch 15, CIFAR-10 Batch 3:  Loss:     0.7367 Validation Accuracy: 0.638000\n",
      "Epoch 15, CIFAR-10 Batch 4:  Loss:     0.6972 Validation Accuracy: 0.647000\n",
      "Epoch 15, CIFAR-10 Batch 5:  Loss:     0.7087 Validation Accuracy: 0.644400\n",
      "Epoch 16, CIFAR-10 Batch 1:  Loss:     0.7934 Validation Accuracy: 0.651400\n",
      "Epoch 16, CIFAR-10 Batch 2:  Loss:     0.7987 Validation Accuracy: 0.635200\n",
      "Epoch 16, CIFAR-10 Batch 3:  Loss:     0.7068 Validation Accuracy: 0.641800\n",
      "Epoch 16, CIFAR-10 Batch 4:  Loss:     0.6800 Validation Accuracy: 0.653400\n",
      "Epoch 16, CIFAR-10 Batch 5:  Loss:     0.6894 Validation Accuracy: 0.653000\n",
      "Epoch 17, CIFAR-10 Batch 1:  Loss:     0.7535 Validation Accuracy: 0.655000\n",
      "Epoch 17, CIFAR-10 Batch 2:  Loss:     0.7971 Validation Accuracy: 0.624200\n",
      "Epoch 17, CIFAR-10 Batch 3:  Loss:     0.6712 Validation Accuracy: 0.654200\n",
      "Epoch 17, CIFAR-10 Batch 4:  Loss:     0.6611 Validation Accuracy: 0.658000\n",
      "Epoch 17, CIFAR-10 Batch 5:  Loss:     0.6497 Validation Accuracy: 0.654200\n",
      "Epoch 18, CIFAR-10 Batch 1:  Loss:     0.7177 Validation Accuracy: 0.657600\n",
      "Epoch 18, CIFAR-10 Batch 2:  Loss:     0.7615 Validation Accuracy: 0.642200\n",
      "Epoch 18, CIFAR-10 Batch 3:  Loss:     0.6491 Validation Accuracy: 0.651600\n",
      "Epoch 18, CIFAR-10 Batch 4:  Loss:     0.6465 Validation Accuracy: 0.658200\n",
      "Epoch 18, CIFAR-10 Batch 5:  Loss:     0.6177 Validation Accuracy: 0.652400\n",
      "Epoch 19, CIFAR-10 Batch 1:  Loss:     0.6977 Validation Accuracy: 0.645400\n",
      "Epoch 19, CIFAR-10 Batch 2:  Loss:     0.7540 Validation Accuracy: 0.654000\n",
      "Epoch 19, CIFAR-10 Batch 3:  Loss:     0.6379 Validation Accuracy: 0.654400\n",
      "Epoch 19, CIFAR-10 Batch 4:  Loss:     0.6270 Validation Accuracy: 0.668400\n",
      "Epoch 19, CIFAR-10 Batch 5:  Loss:     0.6221 Validation Accuracy: 0.650400\n",
      "Epoch 20, CIFAR-10 Batch 1:  Loss:     0.6961 Validation Accuracy: 0.654400\n",
      "Epoch 20, CIFAR-10 Batch 2:  Loss:     0.7175 Validation Accuracy: 0.662400\n",
      "Epoch 20, CIFAR-10 Batch 3:  Loss:     0.5946 Validation Accuracy: 0.665400\n",
      "Epoch 20, CIFAR-10 Batch 4:  Loss:     0.6008 Validation Accuracy: 0.670400\n",
      "Epoch 20, CIFAR-10 Batch 5:  Loss:     0.5992 Validation Accuracy: 0.659400\n",
      "Epoch 21, CIFAR-10 Batch 1:  Loss:     0.6709 Validation Accuracy: 0.646000\n",
      "Epoch 21, CIFAR-10 Batch 2:  Loss:     0.7332 Validation Accuracy: 0.662400\n",
      "Epoch 21, CIFAR-10 Batch 3:  Loss:     0.6023 Validation Accuracy: 0.663200\n",
      "Epoch 21, CIFAR-10 Batch 4:  Loss:     0.5673 Validation Accuracy: 0.674600\n",
      "Epoch 21, CIFAR-10 Batch 5:  Loss:     0.5588 Validation Accuracy: 0.674800\n",
      "Epoch 22, CIFAR-10 Batch 1:  Loss:     0.6416 Validation Accuracy: 0.653200\n",
      "Epoch 22, CIFAR-10 Batch 2:  Loss:     0.6327 Validation Accuracy: 0.675800\n",
      "Epoch 22, CIFAR-10 Batch 3:  Loss:     0.5656 Validation Accuracy: 0.661200\n",
      "Epoch 22, CIFAR-10 Batch 4:  Loss:     0.5366 Validation Accuracy: 0.675000\n",
      "Epoch 22, CIFAR-10 Batch 5:  Loss:     0.5478 Validation Accuracy: 0.667600\n",
      "Epoch 23, CIFAR-10 Batch 1:  Loss:     0.6392 Validation Accuracy: 0.652400\n",
      "Epoch 23, CIFAR-10 Batch 2:  Loss:     0.6294 Validation Accuracy: 0.666400\n",
      "Epoch 23, CIFAR-10 Batch 3:  Loss:     0.5447 Validation Accuracy: 0.669000\n",
      "Epoch 23, CIFAR-10 Batch 4:  Loss:     0.5187 Validation Accuracy: 0.675200\n",
      "Epoch 23, CIFAR-10 Batch 5:  Loss:     0.5331 Validation Accuracy: 0.666800\n",
      "Epoch 24, CIFAR-10 Batch 1:  Loss:     0.6203 Validation Accuracy: 0.643200\n",
      "Epoch 24, CIFAR-10 Batch 2:  Loss:     0.6332 Validation Accuracy: 0.670000\n",
      "Epoch 24, CIFAR-10 Batch 3:  Loss:     0.5681 Validation Accuracy: 0.663400\n",
      "Epoch 24, CIFAR-10 Batch 4:  Loss:     0.5091 Validation Accuracy: 0.680600\n",
      "Epoch 24, CIFAR-10 Batch 5:  Loss:     0.5052 Validation Accuracy: 0.675800\n",
      "Epoch 25, CIFAR-10 Batch 1:  Loss:     0.6005 Validation Accuracy: 0.653200\n",
      "Epoch 25, CIFAR-10 Batch 2:  Loss:     0.6206 Validation Accuracy: 0.669200\n",
      "Epoch 25, CIFAR-10 Batch 3:  Loss:     0.5435 Validation Accuracy: 0.665600\n",
      "Epoch 25, CIFAR-10 Batch 4:  Loss:     0.5018 Validation Accuracy: 0.679800\n",
      "Epoch 25, CIFAR-10 Batch 5:  Loss:     0.4997 Validation Accuracy: 0.671400\n",
      "Epoch 26, CIFAR-10 Batch 1:  Loss:     0.5759 Validation Accuracy: 0.661200\n",
      "Epoch 26, CIFAR-10 Batch 2:  Loss:     0.5733 Validation Accuracy: 0.678400\n",
      "Epoch 26, CIFAR-10 Batch 3:  Loss:     0.5143 Validation Accuracy: 0.665000\n",
      "Epoch 26, CIFAR-10 Batch 4:  Loss:     0.4949 Validation Accuracy: 0.683000\n",
      "Epoch 26, CIFAR-10 Batch 5:  Loss:     0.4862 Validation Accuracy: 0.665400\n",
      "Epoch 27, CIFAR-10 Batch 1:  Loss:     0.5812 Validation Accuracy: 0.676200\n",
      "Epoch 27, CIFAR-10 Batch 2:  Loss:     0.5522 Validation Accuracy: 0.676800\n",
      "Epoch 27, CIFAR-10 Batch 3:  Loss:     0.4889 Validation Accuracy: 0.664600\n",
      "Epoch 27, CIFAR-10 Batch 4:  Loss:     0.4710 Validation Accuracy: 0.682800\n",
      "Epoch 27, CIFAR-10 Batch 5:  Loss:     0.4735 Validation Accuracy: 0.675600\n",
      "Epoch 28, CIFAR-10 Batch 1:  Loss:     0.5719 Validation Accuracy: 0.669800\n",
      "Epoch 28, CIFAR-10 Batch 2:  Loss:     0.5862 Validation Accuracy: 0.668600\n",
      "Epoch 28, CIFAR-10 Batch 3:  Loss:     0.5005 Validation Accuracy: 0.664000\n",
      "Epoch 28, CIFAR-10 Batch 4:  Loss:     0.4754 Validation Accuracy: 0.678000\n",
      "Epoch 28, CIFAR-10 Batch 5:  Loss:     0.4483 Validation Accuracy: 0.687600\n",
      "Epoch 29, CIFAR-10 Batch 1:  Loss:     0.5399 Validation Accuracy: 0.683200\n",
      "Epoch 29, CIFAR-10 Batch 2:  Loss:     0.5366 Validation Accuracy: 0.670400\n",
      "Epoch 29, CIFAR-10 Batch 3:  Loss:     0.4718 Validation Accuracy: 0.671400\n",
      "Epoch 29, CIFAR-10 Batch 4:  Loss:     0.4534 Validation Accuracy: 0.681200\n",
      "Epoch 29, CIFAR-10 Batch 5:  Loss:     0.4272 Validation Accuracy: 0.685200\n",
      "Epoch 30, CIFAR-10 Batch 1:  Loss:     0.5524 Validation Accuracy: 0.682200\n",
      "Epoch 30, CIFAR-10 Batch 2:  Loss:     0.5199 Validation Accuracy: 0.670200\n",
      "Epoch 30, CIFAR-10 Batch 3:  Loss:     0.4778 Validation Accuracy: 0.673600\n",
      "Epoch 30, CIFAR-10 Batch 4:  Loss:     0.4526 Validation Accuracy: 0.679400\n",
      "Epoch 30, CIFAR-10 Batch 5:  Loss:     0.4119 Validation Accuracy: 0.684800\n",
      "Epoch 31, CIFAR-10 Batch 1:  Loss:     0.5045 Validation Accuracy: 0.681800\n",
      "Epoch 31, CIFAR-10 Batch 2:  Loss:     0.4946 Validation Accuracy: 0.672000\n",
      "Epoch 31, CIFAR-10 Batch 3:  Loss:     0.4257 Validation Accuracy: 0.683200\n",
      "Epoch 31, CIFAR-10 Batch 4:  Loss:     0.4648 Validation Accuracy: 0.677800\n",
      "Epoch 31, CIFAR-10 Batch 5:  Loss:     0.4203 Validation Accuracy: 0.682200\n",
      "Epoch 32, CIFAR-10 Batch 1:  Loss:     0.4770 Validation Accuracy: 0.687200\n",
      "Epoch 32, CIFAR-10 Batch 2:  Loss:     0.4885 Validation Accuracy: 0.678800\n",
      "Epoch 32, CIFAR-10 Batch 3:  Loss:     0.3944 Validation Accuracy: 0.688000\n",
      "Epoch 32, CIFAR-10 Batch 4:  Loss:     0.4225 Validation Accuracy: 0.683200\n",
      "Epoch 32, CIFAR-10 Batch 5:  Loss:     0.4011 Validation Accuracy: 0.688200\n",
      "Epoch 33, CIFAR-10 Batch 1:  Loss:     0.4546 Validation Accuracy: 0.681400\n",
      "Epoch 33, CIFAR-10 Batch 2:  Loss:     0.4667 Validation Accuracy: 0.672200\n",
      "Epoch 33, CIFAR-10 Batch 3:  Loss:     0.4255 Validation Accuracy: 0.680400\n",
      "Epoch 33, CIFAR-10 Batch 4:  Loss:     0.4089 Validation Accuracy: 0.686800\n",
      "Epoch 33, CIFAR-10 Batch 5:  Loss:     0.3830 Validation Accuracy: 0.681400\n",
      "Epoch 34, CIFAR-10 Batch 1:  Loss:     0.4450 Validation Accuracy: 0.684800\n",
      "Epoch 34, CIFAR-10 Batch 2:  Loss:     0.4754 Validation Accuracy: 0.673000\n",
      "Epoch 34, CIFAR-10 Batch 3:  Loss:     0.3719 Validation Accuracy: 0.684600\n",
      "Epoch 34, CIFAR-10 Batch 4:  Loss:     0.4103 Validation Accuracy: 0.679000\n",
      "Epoch 34, CIFAR-10 Batch 5:  Loss:     0.3635 Validation Accuracy: 0.681800\n",
      "Epoch 35, CIFAR-10 Batch 1:  Loss:     0.4517 Validation Accuracy: 0.669000\n",
      "Epoch 35, CIFAR-10 Batch 2:  Loss:     0.4594 Validation Accuracy: 0.673200\n",
      "Epoch 35, CIFAR-10 Batch 3:  Loss:     0.3795 Validation Accuracy: 0.680000\n",
      "Epoch 35, CIFAR-10 Batch 4:  Loss:     0.3839 Validation Accuracy: 0.692800\n",
      "Epoch 35, CIFAR-10 Batch 5:  Loss:     0.3622 Validation Accuracy: 0.679200\n",
      "Epoch 36, CIFAR-10 Batch 1:  Loss:     0.4289 Validation Accuracy: 0.672800\n",
      "Epoch 36, CIFAR-10 Batch 2:  Loss:     0.4605 Validation Accuracy: 0.670400\n",
      "Epoch 36, CIFAR-10 Batch 3:  Loss:     0.3832 Validation Accuracy: 0.677400\n",
      "Epoch 36, CIFAR-10 Batch 4:  Loss:     0.3677 Validation Accuracy: 0.692000\n",
      "Epoch 36, CIFAR-10 Batch 5:  Loss:     0.3321 Validation Accuracy: 0.684800\n",
      "Epoch 37, CIFAR-10 Batch 1:  Loss:     0.4061 Validation Accuracy: 0.675600\n",
      "Epoch 37, CIFAR-10 Batch 2:  Loss:     0.4794 Validation Accuracy: 0.668800\n",
      "Epoch 37, CIFAR-10 Batch 3:  Loss:     0.4135 Validation Accuracy: 0.661400\n",
      "Epoch 37, CIFAR-10 Batch 4:  Loss:     0.3591 Validation Accuracy: 0.685600\n",
      "Epoch 37, CIFAR-10 Batch 5:  Loss:     0.3473 Validation Accuracy: 0.686600\n",
      "Epoch 38, CIFAR-10 Batch 1:  Loss:     0.3964 Validation Accuracy: 0.679400\n",
      "Epoch 38, CIFAR-10 Batch 2:  Loss:     0.4207 Validation Accuracy: 0.675600\n",
      "Epoch 38, CIFAR-10 Batch 3:  Loss:     0.3692 Validation Accuracy: 0.671400\n",
      "Epoch 38, CIFAR-10 Batch 4:  Loss:     0.3641 Validation Accuracy: 0.687200\n",
      "Epoch 38, CIFAR-10 Batch 5:  Loss:     0.3401 Validation Accuracy: 0.686600\n",
      "Epoch 39, CIFAR-10 Batch 1:  Loss:     0.3906 Validation Accuracy: 0.680600\n",
      "Epoch 39, CIFAR-10 Batch 2:  Loss:     0.4243 Validation Accuracy: 0.670800\n",
      "Epoch 39, CIFAR-10 Batch 3:  Loss:     0.3966 Validation Accuracy: 0.662800\n",
      "Epoch 39, CIFAR-10 Batch 4:  Loss:     0.3469 Validation Accuracy: 0.682200\n",
      "Epoch 39, CIFAR-10 Batch 5:  Loss:     0.3473 Validation Accuracy: 0.688200\n",
      "Epoch 40, CIFAR-10 Batch 1:  Loss:     0.3650 Validation Accuracy: 0.670800\n",
      "Epoch 40, CIFAR-10 Batch 2:  Loss:     0.3940 Validation Accuracy: 0.673600\n",
      "Epoch 40, CIFAR-10 Batch 3:  Loss:     0.3663 Validation Accuracy: 0.669000\n",
      "Epoch 40, CIFAR-10 Batch 4:  Loss:     0.3661 Validation Accuracy: 0.683000\n",
      "Epoch 40, CIFAR-10 Batch 5:  Loss:     0.3831 Validation Accuracy: 0.677400\n",
      "Epoch 41, CIFAR-10 Batch 1:  Loss:     0.3578 Validation Accuracy: 0.693200\n",
      "Epoch 41, CIFAR-10 Batch 2:  Loss:     0.3687 Validation Accuracy: 0.688800\n",
      "Epoch 41, CIFAR-10 Batch 3:  Loss:     0.3361 Validation Accuracy: 0.676400\n",
      "Epoch 41, CIFAR-10 Batch 4:  Loss:     0.4188 Validation Accuracy: 0.658800\n",
      "Epoch 41, CIFAR-10 Batch 5:  Loss:     0.3596 Validation Accuracy: 0.675400\n",
      "Epoch 42, CIFAR-10 Batch 1:  Loss:     0.3605 Validation Accuracy: 0.685400\n",
      "Epoch 42, CIFAR-10 Batch 2:  Loss:     0.3587 Validation Accuracy: 0.692000\n",
      "Epoch 42, CIFAR-10 Batch 3:  Loss:     0.3260 Validation Accuracy: 0.681200\n",
      "Epoch 42, CIFAR-10 Batch 4:  Loss:     0.4398 Validation Accuracy: 0.651400\n",
      "Epoch 42, CIFAR-10 Batch 5:  Loss:     0.3138 Validation Accuracy: 0.681800\n",
      "Epoch 43, CIFAR-10 Batch 1:  Loss:     0.3421 Validation Accuracy: 0.682400\n",
      "Epoch 43, CIFAR-10 Batch 2:  Loss:     0.3418 Validation Accuracy: 0.686200\n",
      "Epoch 43, CIFAR-10 Batch 3:  Loss:     0.3201 Validation Accuracy: 0.680400\n",
      "Epoch 43, CIFAR-10 Batch 4:  Loss:     0.3807 Validation Accuracy: 0.670200\n",
      "Epoch 43, CIFAR-10 Batch 5:  Loss:     0.3147 Validation Accuracy: 0.688200\n",
      "Epoch 44, CIFAR-10 Batch 1:  Loss:     0.3352 Validation Accuracy: 0.676200\n",
      "Epoch 44, CIFAR-10 Batch 2:  Loss:     0.3316 Validation Accuracy: 0.675600\n",
      "Epoch 44, CIFAR-10 Batch 3:  Loss:     0.3128 Validation Accuracy: 0.678800\n",
      "Epoch 44, CIFAR-10 Batch 4:  Loss:     0.3627 Validation Accuracy: 0.664400\n",
      "Epoch 44, CIFAR-10 Batch 5:  Loss:     0.3148 Validation Accuracy: 0.675600\n",
      "Epoch 45, CIFAR-10 Batch 1:  Loss:     0.3580 Validation Accuracy: 0.669000\n",
      "Epoch 45, CIFAR-10 Batch 2:  Loss:     0.3342 Validation Accuracy: 0.683000\n",
      "Epoch 45, CIFAR-10 Batch 3:  Loss:     0.2797 Validation Accuracy: 0.689400\n",
      "Epoch 45, CIFAR-10 Batch 4:  Loss:     0.3376 Validation Accuracy: 0.686800\n",
      "Epoch 45, CIFAR-10 Batch 5:  Loss:     0.2839 Validation Accuracy: 0.678200\n",
      "Epoch 46, CIFAR-10 Batch 1:  Loss:     0.3522 Validation Accuracy: 0.674600\n",
      "Epoch 46, CIFAR-10 Batch 2:  Loss:     0.3264 Validation Accuracy: 0.679400\n",
      "Epoch 46, CIFAR-10 Batch 3:  Loss:     0.2807 Validation Accuracy: 0.685000\n",
      "Epoch 46, CIFAR-10 Batch 4:  Loss:     0.3269 Validation Accuracy: 0.684000\n",
      "Epoch 46, CIFAR-10 Batch 5:  Loss:     0.2752 Validation Accuracy: 0.685600\n",
      "Epoch 47, CIFAR-10 Batch 1:  Loss:     0.3094 Validation Accuracy: 0.667000\n",
      "Epoch 47, CIFAR-10 Batch 2:  Loss:     0.3016 Validation Accuracy: 0.675200\n",
      "Epoch 47, CIFAR-10 Batch 3:  Loss:     0.2698 Validation Accuracy: 0.687000\n",
      "Epoch 47, CIFAR-10 Batch 4:  Loss:     0.3067 Validation Accuracy: 0.686800\n",
      "Epoch 47, CIFAR-10 Batch 5:  Loss:     0.2698 Validation Accuracy: 0.683400\n",
      "Epoch 48, CIFAR-10 Batch 1:  Loss:     0.2898 Validation Accuracy: 0.674400\n",
      "Epoch 48, CIFAR-10 Batch 2:  Loss:     0.3061 Validation Accuracy: 0.675200\n",
      "Epoch 48, CIFAR-10 Batch 3:  Loss:     0.2810 Validation Accuracy: 0.682000\n",
      "Epoch 48, CIFAR-10 Batch 4:  Loss:     0.3038 Validation Accuracy: 0.688400\n",
      "Epoch 48, CIFAR-10 Batch 5:  Loss:     0.2749 Validation Accuracy: 0.685000\n",
      "Epoch 49, CIFAR-10 Batch 1:  Loss:     0.2727 Validation Accuracy: 0.682000\n",
      "Epoch 49, CIFAR-10 Batch 2:  Loss:     0.3044 Validation Accuracy: 0.669800\n",
      "Epoch 49, CIFAR-10 Batch 3:  Loss:     0.2675 Validation Accuracy: 0.690000\n",
      "Epoch 49, CIFAR-10 Batch 4:  Loss:     0.3101 Validation Accuracy: 0.673600\n",
      "Epoch 49, CIFAR-10 Batch 5:  Loss:     0.2732 Validation Accuracy: 0.682000\n",
      "Epoch 50, CIFAR-10 Batch 1:  Loss:     0.2684 Validation Accuracy: 0.685800\n",
      "Epoch 50, CIFAR-10 Batch 2:  Loss:     0.2994 Validation Accuracy: 0.673800\n",
      "Epoch 50, CIFAR-10 Batch 3:  Loss:     0.2918 Validation Accuracy: 0.681000\n",
      "Epoch 50, CIFAR-10 Batch 4:  Loss:     0.3016 Validation Accuracy: 0.684600\n",
      "Epoch 50, CIFAR-10 Batch 5:  Loss:     0.2297 Validation Accuracy: 0.693400\n"
     ]
    }
   ],
   "source": [
    "\"\"\"\n",
    "DON'T MODIFY ANYTHING IN THIS CELL\n",
    "\"\"\"\n",
    "save_model_path = './image_classification'\n",
    "\n",
    "print('Training...')\n",
    "with tf.Session() as sess:\n",
    "    # Initializing the variables\n",
    "    sess.run(tf.global_variables_initializer())\n",
    "    \n",
    "    # Training cycle\n",
    "    for epoch in range(epochs):\n",
    "        # Loop over all batches\n",
    "        n_batches = 5\n",
    "        for batch_i in range(1, n_batches + 1):\n",
    "            for batch_features, batch_labels in helper.load_preprocess_training_batch(batch_i, batch_size):\n",
    "                train_neural_network(sess, optimizer, keep_probability, batch_features, batch_labels)\n",
    "            print('Epoch {:>2}, CIFAR-10 Batch {}:  '.format(epoch + 1, batch_i), end='')\n",
    "            print_stats(sess, batch_features, batch_labels, cost, accuracy)\n",
    "            \n",
    "    # Save Model\n",
    "    saver = tf.train.Saver()\n",
    "    save_path = saver.save(sess, save_model_path)"
   ]
  },
  {
   "cell_type": "markdown",
   "metadata": {},
   "source": [
    "# Checkpoint\n",
    "The model has been saved to disk.\n",
    "## Test Model\n",
    "Test your model against the test dataset.  This will be your final accuracy. You should have an accuracy greater than 50%. If you don't, keep tweaking the model architecture and parameters."
   ]
  },
  {
   "cell_type": "code",
   "execution_count": 29,
   "metadata": {
    "collapsed": false
   },
   "outputs": [
    {
     "name": "stdout",
     "output_type": "stream",
     "text": [
      "Testing Accuracy: 0.68037109375\n",
      "\n"
     ]
    },
    {
     "data": {
      "image/png": "[encoded data removed]",
      "text/plain": [
       "<matplotlib.figure.Figure at 0x10dd005f8>"
      ]
     },
     "metadata": {
      "image/png": {
       "height": 319,
       "width": 355
      }
     },
     "output_type": "display_data"
    }
   ],
   "source": [
    "\"\"\"\n",
    "DON'T MODIFY ANYTHING IN THIS CELL\n",
    "\"\"\"\n",
    "%matplotlib inline\n",
    "%config InlineBackend.figure_format = 'retina'\n",
    "\n",
    "import tensorflow as tf\n",
    "import pickle\n",
    "import helper\n",
    "import random\n",
    "\n",
    "# Set batch size if not already set\n",
    "try:\n",
    "    if batch_size:\n",
    "        pass\n",
    "except NameError:\n",
    "    batch_size = 64\n",
    "\n",
    "save_model_path = './image_classification'\n",
    "n_samples = 4\n",
    "top_n_predictions = 3\n",
    "\n",
    "def test_model():\n",
    "    \"\"\"\n",
    "    Test the saved model against the test dataset\n",
    "    \"\"\"\n",
    "\n",
    "    test_features, test_labels = pickle.load(open('preprocess_training.p', mode='rb'))\n",
    "    loaded_graph = tf.Graph()\n",
    "\n",
    "    with tf.Session(graph=loaded_graph) as sess:\n",
    "        # Load model\n",
    "        loader = tf.train.import_meta_graph(save_model_path + '.meta')\n",
    "        loader.restore(sess, save_model_path)\n",
    "\n",
    "        # Get Tensors from loaded model\n",
    "        loaded_x = loaded_graph.get_tensor_by_name('x:0')\n",
    "        loaded_y = loaded_graph.get_tensor_by_name('y:0')\n",
    "        loaded_keep_prob = loaded_graph.get_tensor_by_name('keep_prob:0')\n",
    "        loaded_logits = loaded_graph.get_tensor_by_name('logits:0')\n",
    "        loaded_acc = loaded_graph.get_tensor_by_name('accuracy:0')\n",
    "        \n",
    "        # Get accuracy in batches for memory limitations\n",
    "        test_batch_acc_total = 0\n",
    "        test_batch_count = 0\n",
    "        \n",
    "        for train_feature_batch, train_label_batch in helper.batch_features_labels(test_features, test_labels, batch_size):\n",
    "            test_batch_acc_total += sess.run(\n",
    "                loaded_acc,\n",
    "                feed_dict={loaded_x: train_feature_batch, loaded_y: train_label_batch, loaded_keep_prob: 1.0})\n",
    "            test_batch_count += 1\n",
    "\n",
    "        print('Testing Accuracy: {}\\n'.format(test_batch_acc_total/test_batch_count))\n",
    "\n",
    "        # Print Random Samples\n",
    "        random_test_features, random_test_labels = tuple(zip(*random.sample(list(zip(test_features, test_labels)), n_samples)))\n",
    "        random_test_predictions = sess.run(\n",
    "            tf.nn.top_k(tf.nn.softmax(loaded_logits), top_n_predictions),\n",
    "            feed_dict={loaded_x: random_test_features, loaded_y: random_test_labels, loaded_keep_prob: 1.0})\n",
    "        helper.display_image_predictions(random_test_features, random_test_labels, random_test_predictions)\n",
    "\n",
    "\n",
    "test_model()"
   ]
  },
  {
   "cell_type": "markdown",
   "metadata": {},
   "source": [
    "## Why 50-70% Accuracy?\n",
    "You might be wondering why you can't get an accuracy any higher. First things first, 50% isn't bad for a simple CNN.  Pure guessing would get you 10% accuracy. However, you might notice people are getting scores [well above 70%](http://rodrigob.github.io/are_we_there_yet/build/classification_datasets_results.html#43494641522d3130).  That's because we haven't taught you all there is to know about neural networks. We still need to cover a few more techniques.\n",
    "## Submitting This Project\n",
    "When submitting this project, make sure to run all the cells before saving the notebook.  Save the notebook file as \"dlnd_image_classification.ipynb\" and save it as a HTML file under \"File\" -> \"Download as\".  Include the \"helper.py\" and \"problem_unittests.py\" files in your submission."
   ]
  }
 ],
 "metadata": {
  "kernelspec": {
   "display_name": "Python 3",
   "language": "python",
   "name": "python3"
  },
  "language_info": {
   "codemirror_mode": {
    "name": "ipython",
    "version": 3
   },
   "file_extension": ".py",
   "mimetype": "text/x-python",
   "name": "python",
   "nbconvert_exporter": "python",
   "pygments_lexer": "ipython3",
   "version": "3.5.3"
  }
 },
 "nbformat": 4,
 "nbformat_minor": 0
}

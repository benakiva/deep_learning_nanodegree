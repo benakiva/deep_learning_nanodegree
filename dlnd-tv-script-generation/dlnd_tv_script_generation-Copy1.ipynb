{
 "cells": [
  {
   "cell_type": "markdown",
   "metadata": {
    "deletable": true,
    "editable": true
   },
   "source": [
    "# TV Script Generation\n",
    "In this project, you'll generate your own [Simpsons](https://en.wikipedia.org/wiki/The_Simpsons) TV scripts using RNNs.  You'll be using part of the [Simpsons dataset](https://www.kaggle.com/wcukierski/the-simpsons-by-the-data) of scripts from 27 seasons.  The Neural Network you'll build will generate a new TV script for a scene at [Moe's Tavern](https://simpsonswiki.com/wiki/Moe's_Tavern).\n",
    "## Get the Data\n",
    "The data is already provided for you.  You'll be using a subset of the original dataset.  It consists of only the scenes in Moe's Tavern.  This doesn't include other versions of the tavern, like \"Moe's Cavern\", \"Flaming Moe's\", \"Uncle Moe's Family Feed-Bag\", etc.."
   ]
  },
  {
   "cell_type": "code",
   "execution_count": 1,
   "metadata": {
    "collapsed": false,
    "deletable": true,
    "editable": true
   },
   "outputs": [],
   "source": [
    "\"\"\"\n",
    "DON'T MODIFY ANYTHING IN THIS CELL\n",
    "\"\"\"\n",
    "import helper\n",
    "\n",
    "data_dir = './data/simpsons/alice_in_wonderland.txt'\n",
    "text = helper.load_data(data_dir)\n",
    "# Ignore notice, since we don't use it for analysing the data\n",
    "text = text[81:]"
   ]
  },
  {
   "cell_type": "markdown",
   "metadata": {
    "deletable": true,
    "editable": true
   },
   "source": [
    "## Explore the Data\n",
    "Play around with `view_sentence_range` to view different parts of the data."
   ]
  },
  {
   "cell_type": "code",
   "execution_count": 2,
   "metadata": {
    "collapsed": false,
    "deletable": true,
    "editable": true
   },
   "outputs": [
    {
     "name": "stdout",
     "output_type": "stream",
     "text": [
      "Dataset Stats\n",
      "Roughly the number of unique words: 5977\n",
      "Number of scenes: 871\n",
      "Average number of sentences in each scene: 2.205510907003444\n",
      "Number of lines: 2792\n",
      "Average number of words in each line: 10.488538681948423\n",
      "\n",
      "The sentences 0 to 10:\n",
      "f having nothing to do: once or twice she had peeped into the\n",
      "book her sister was reading, but it had no pictures or conversations in\n",
      "it, ‘and what is the use of a book,’ thought Alice ‘without pictures or\n",
      "conversations?’\n",
      "\n",
      "So she was considering in her own mind (as well as she could, for the\n",
      "hot day made her feel very sleepy and stupid), whether the pleasure\n",
      "of making a daisy-chain would be worth the trouble of getting up and\n",
      "picking the daisies, when suddenly a White Rabbit with pink eyes ran\n",
      "close by her.\n"
     ]
    }
   ],
   "source": [
    "view_sentence_range = (0, 10)\n",
    "\n",
    "\"\"\"\n",
    "DON'T MODIFY ANYTHING IN THIS CELL\n",
    "\"\"\"\n",
    "import numpy as np\n",
    "\n",
    "print('Dataset Stats')\n",
    "print('Roughly the number of unique words: {}'.format(len({word: None for word in text.split()})))\n",
    "scenes = text.split('\\n\\n')\n",
    "print('Number of scenes: {}'.format(len(scenes)))\n",
    "sentence_count_scene = [scene.count('\\n') for scene in scenes]\n",
    "print('Average number of sentences in each scene: {}'.format(np.average(sentence_count_scene)))\n",
    "\n",
    "sentences = [sentence for scene in scenes for sentence in scene.split('\\n')]\n",
    "print('Number of lines: {}'.format(len(sentences)))\n",
    "word_count_sentence = [len(sentence.split()) for sentence in sentences]\n",
    "print('Average number of words in each line: {}'.format(np.average(word_count_sentence)))\n",
    "\n",
    "print()\n",
    "print('The sentences {} to {}:'.format(*view_sentence_range))\n",
    "print('\\n'.join(text.split('\\n')[view_sentence_range[0]:view_sentence_range[1]]))"
   ]
  },
  {
   "cell_type": "markdown",
   "metadata": {
    "deletable": true,
    "editable": true
   },
   "source": [
    "## Implement Preprocessing Functions\n",
    "The first thing to do to any dataset is preprocessing.  Implement the following preprocessing functions below:\n",
    "- Lookup Table\n",
    "- Tokenize Punctuation\n",
    "\n",
    "### Lookup Table\n",
    "To create a word embedding, you first need to transform the words to ids.  In this function, create two dictionaries:\n",
    "- Dictionary to go from the words to an id, we'll call `vocab_to_int`\n",
    "- Dictionary to go from the id to word, we'll call `int_to_vocab`\n",
    "\n",
    "Return these dictionaries in the following tuple `(vocab_to_int, int_to_vocab)`"
   ]
  },
  {
   "cell_type": "code",
   "execution_count": 3,
   "metadata": {
    "collapsed": false,
    "deletable": true,
    "editable": true
   },
   "outputs": [
    {
     "name": "stdout",
     "output_type": "stream",
     "text": [
      "Tests Passed\n"
     ]
    }
   ],
   "source": [
    "import numpy as np\n",
    "import problem_unittests as tests\n",
    "\n",
    "def create_lookup_tables(text):\n",
    "    \"\"\"\n",
    "    Create lookup tables for vocabulary\n",
    "    :param text: The text of tv scripts split into words\n",
    "    :return: A tuple of dicts (vocab_to_int, int_to_vocab)\n",
    "    \"\"\"\n",
    "    # TODO: Implement Function\n",
    "    vocab = set(text)\n",
    "    vocab_to_int = {c: i for i, c in enumerate(vocab)}\n",
    "    int_to_vocab = dict(enumerate(vocab))\n",
    "    \n",
    "    return vocab_to_int, int_to_vocab\n",
    "\n",
    "\n",
    "\"\"\"\n",
    "DON'T MODIFY ANYTHING IN THIS CELL THAT IS BELOW THIS LINE\n",
    "\"\"\"\n",
    "tests.test_create_lookup_tables(create_lookup_tables)"
   ]
  },
  {
   "cell_type": "markdown",
   "metadata": {
    "deletable": true,
    "editable": true
   },
   "source": [
    "### Tokenize Punctuation\n",
    "We'll be splitting the script into a word array using spaces as delimiters.  However, punctuations like periods and exclamation marks make it hard for the neural network to distinguish between the word \"bye\" and \"bye!\".\n",
    "\n",
    "Implement the function `token_lookup` to return a dict that will be used to tokenize symbols like \"!\" into \"||Exclamation_Mark||\".  Create a dictionary for the following symbols where the symbol is the key and value is the token:\n",
    "- Period ( . )\n",
    "- Comma ( , )\n",
    "- Quotation Mark ( \" )\n",
    "- Semicolon ( ; )\n",
    "- Exclamation mark ( ! )\n",
    "- Question mark ( ? )\n",
    "- Left Parentheses ( ( )\n",
    "- Right Parentheses ( ) )\n",
    "- Dash ( -- )\n",
    "- Return ( \\n )\n",
    "\n",
    "This dictionary will be used to token the symbols and add the delimiter (space) around it.  This separates the symbols as it's own word, making it easier for the neural network to predict on the next word. Make sure you don't use a token that could be confused as a word. Instead of using the token \"dash\", try using something like \"||dash||\"."
   ]
  },
  {
   "cell_type": "code",
   "execution_count": 4,
   "metadata": {
    "collapsed": false,
    "deletable": true,
    "editable": true
   },
   "outputs": [
    {
     "name": "stdout",
     "output_type": "stream",
     "text": [
      "Tests Passed\n"
     ]
    }
   ],
   "source": [
    "def token_lookup():\n",
    "    \"\"\"\n",
    "    Generate a dict to turn punctuation into a token.\n",
    "    :return: Tokenize dictionary where the key is the punctuation and the value is the token\n",
    "    \"\"\"\n",
    "    # TODO: Implement Function\n",
    "    dict = {'.': '||Period||', ',': '||Comma||', '\"': '||Quotation_Mark||', ';': '||Semicolon||', \n",
    "            '!': '||Exclamation_Mark||', '?': '||Question_Mark||', '(': '||Left_Parentheses||',\n",
    "           ')': '||Right_Parentheses||', '--': '||Dash||', '\\n': '||Return||'}\n",
    "    \n",
    "    return dict\n",
    "\n",
    "\"\"\"\n",
    "DON'T MODIFY ANYTHING IN THIS CELL THAT IS BELOW THIS LINE\n",
    "\"\"\"\n",
    "tests.test_tokenize(token_lookup)"
   ]
  },
  {
   "cell_type": "markdown",
   "metadata": {
    "deletable": true,
    "editable": true
   },
   "source": [
    "## Preprocess all the data and save it\n",
    "Running the code cell below will preprocess all the data and save it to file."
   ]
  },
  {
   "cell_type": "code",
   "execution_count": 5,
   "metadata": {
    "collapsed": false,
    "deletable": true,
    "editable": true
   },
   "outputs": [],
   "source": [
    "\"\"\"\n",
    "DON'T MODIFY ANYTHING IN THIS CELL\n",
    "\"\"\"\n",
    "# Preprocess Training, Validation, and Testing Data\n",
    "helper.preprocess_and_save_data(data_dir, token_lookup, create_lookup_tables)"
   ]
  },
  {
   "cell_type": "markdown",
   "metadata": {
    "deletable": true,
    "editable": true
   },
   "source": [
    "# Check Point\n",
    "This is your first checkpoint. If you ever decide to come back to this notebook or have to restart the notebook, you can start from here. The preprocessed data has been saved to disk."
   ]
  },
  {
   "cell_type": "code",
   "execution_count": 6,
   "metadata": {
    "collapsed": false,
    "deletable": true,
    "editable": true
   },
   "outputs": [],
   "source": [
    "\"\"\"\n",
    "DON'T MODIFY ANYTHING IN THIS CELL\n",
    "\"\"\"\n",
    "import helper\n",
    "import numpy as np\n",
    "import problem_unittests as tests\n",
    "\n",
    "int_text, vocab_to_int, int_to_vocab, token_dict = helper.load_preprocess()"
   ]
  },
  {
   "cell_type": "markdown",
   "metadata": {
    "deletable": true,
    "editable": true
   },
   "source": [
    "## Build the Neural Network\n",
    "You'll build the components necessary to build a RNN by implementing the following functions below:\n",
    "- get_inputs\n",
    "- get_init_cell\n",
    "- get_embed\n",
    "- build_rnn\n",
    "- build_nn\n",
    "- get_batches\n",
    "\n",
    "### Check the Version of TensorFlow and Access to GPU"
   ]
  },
  {
   "cell_type": "code",
   "execution_count": 7,
   "metadata": {
    "collapsed": false,
    "deletable": true,
    "editable": true
   },
   "outputs": [
    {
     "name": "stdout",
     "output_type": "stream",
     "text": [
      "TensorFlow Version: 1.0.0\n"
     ]
    },
    {
     "name": "stderr",
     "output_type": "stream",
     "text": [
      "//anaconda/envs/tensorflow/lib/python3.5/site-packages/ipykernel/__main__.py:14: UserWarning: No GPU found. Please use a GPU to train your neural network.\n"
     ]
    }
   ],
   "source": [
    "\"\"\"\n",
    "DON'T MODIFY ANYTHING IN THIS CELL\n",
    "\"\"\"\n",
    "from distutils.version import LooseVersion\n",
    "import warnings\n",
    "import tensorflow as tf\n",
    "\n",
    "# Check TensorFlow Version\n",
    "assert LooseVersion(tf.__version__) >= LooseVersion('1.0'), 'Please use TensorFlow version 1.0 or newer'\n",
    "print('TensorFlow Version: {}'.format(tf.__version__))\n",
    "\n",
    "# Check for a GPU\n",
    "if not tf.test.gpu_device_name():\n",
    "    warnings.warn('No GPU found. Please use a GPU to train your neural network.')\n",
    "else:\n",
    "    print('Default GPU Device: {}'.format(tf.test.gpu_device_name()))"
   ]
  },
  {
   "cell_type": "markdown",
   "metadata": {
    "deletable": true,
    "editable": true
   },
   "source": [
    "### Input\n",
    "Implement the `get_inputs()` function to create TF Placeholders for the Neural Network.  It should create the following placeholders:\n",
    "- Input text placeholder named \"input\" using the [TF Placeholder](https://www.tensorflow.org/api_docs/python/tf/placeholder) `name` parameter.\n",
    "- Targets placeholder\n",
    "- Learning Rate placeholder\n",
    "\n",
    "Return the placeholders in the following the tuple `(Input, Targets, LearingRate)`"
   ]
  },
  {
   "cell_type": "code",
   "execution_count": 8,
   "metadata": {
    "collapsed": false,
    "deletable": true,
    "editable": true
   },
   "outputs": [
    {
     "name": "stdout",
     "output_type": "stream",
     "text": [
      "Tests Passed\n"
     ]
    }
   ],
   "source": [
    "def get_inputs():\n",
    "    \"\"\"\n",
    "    Create TF Placeholders for input, targets, and learning rate.\n",
    "    :return: Tuple (input, targets, learning rate)\n",
    "    \"\"\"\n",
    "    # TODO: Implement Function\n",
    "    inputs = tf.placeholder(tf.int32, [None, None], name=\"input\")\n",
    "    targets = tf.placeholder(tf.int32, [None, None], name=\"targets\")\n",
    "    learning_rate = tf.placeholder(tf.float32, name=\"learning_rate\")\n",
    "    \n",
    "    return inputs, targets, learning_rate\n",
    "\n",
    "\n",
    "\"\"\"\n",
    "DON'T MODIFY ANYTHING IN THIS CELL THAT IS BELOW THIS LINE\n",
    "\"\"\"\n",
    "tests.test_get_inputs(get_inputs)"
   ]
  },
  {
   "cell_type": "markdown",
   "metadata": {
    "deletable": true,
    "editable": true
   },
   "source": [
    "### Build RNN Cell and Initialize\n",
    "Stack one or more [`BasicLSTMCells`](https://www.tensorflow.org/api_docs/python/tf/contrib/rnn/BasicLSTMCell) in a [`MultiRNNCell`](https://www.tensorflow.org/api_docs/python/tf/contrib/rnn/MultiRNNCell).\n",
    "- The Rnn size should be set using `rnn_size`\n",
    "- Initalize Cell State using the MultiRNNCell's [`zero_state()`](https://www.tensorflow.org/api_docs/python/tf/contrib/rnn/MultiRNNCell#zero_state) function\n",
    "    - Apply the name \"initial_state\" to the initial state using [`tf.identity()`](https://www.tensorflow.org/api_docs/python/tf/identity)\n",
    "\n",
    "Return the cell and initial state in the following tuple `(Cell, InitialState)`"
   ]
  },
  {
   "cell_type": "code",
   "execution_count": 9,
   "metadata": {
    "collapsed": false,
    "deletable": true,
    "editable": true
   },
   "outputs": [
    {
     "name": "stdout",
     "output_type": "stream",
     "text": [
      "Tests Passed\n"
     ]
    }
   ],
   "source": [
    "def get_init_cell(batch_size, rnn_size):\n",
    "    \"\"\"\n",
    "    Create an RNN Cell and initialize it.\n",
    "    :param batch_size: Size of batches\n",
    "    :param rnn_size: Size of RNNs\n",
    "    :return: Tuple (cell, initialize state)\n",
    "    \"\"\"\n",
    "    # TODO: Implement Function\n",
    "    lstm = tf.contrib.rnn.BasicLSTMCell(rnn_size)\n",
    "    cell = tf.contrib.rnn.MultiRNNCell([lstm], [lstm])\n",
    "    initial_state = cell.zero_state(batch_size, tf.float32)\n",
    "    initial_state = tf.identity(initial_state, name = 'initial_state')\n",
    "    \n",
    "    return cell, initial_state\n",
    "\n",
    "\n",
    "\"\"\"\n",
    "DON'T MODIFY ANYTHING IN THIS CELL THAT IS BELOW THIS LINE\n",
    "\"\"\"\n",
    "tests.test_get_init_cell(get_init_cell)"
   ]
  },
  {
   "cell_type": "markdown",
   "metadata": {
    "deletable": true,
    "editable": true
   },
   "source": [
    "### Word Embedding\n",
    "Apply embedding to `input_data` using TensorFlow.  Return the embedded sequence."
   ]
  },
  {
   "cell_type": "code",
   "execution_count": 10,
   "metadata": {
    "collapsed": false,
    "deletable": true,
    "editable": true
   },
   "outputs": [
    {
     "name": "stdout",
     "output_type": "stream",
     "text": [
      "Tests Passed\n"
     ]
    }
   ],
   "source": [
    "def get_embed(input_data, vocab_size, embed_dim):\n",
    "    \"\"\"\n",
    "    Create embedding for <input_data>.\n",
    "    :param input_data: TF placeholder for text input.\n",
    "    :param vocab_size: Number of words in vocabulary.\n",
    "    :param embed_dim: Number of embedding dimensions\n",
    "    :return: Embedded input.\n",
    "    \"\"\"\n",
    "    # TODO: Implement Function\n",
    "    return tf.contrib.layers.embed_sequence(input_data, vocab_size, embed_dim)\n",
    "\n",
    "\"\"\"\n",
    "DON'T MODIFY ANYTHING IN THIS CELL THAT IS BELOW THIS LINE\n",
    "\"\"\"\n",
    "tests.test_get_embed(get_embed)"
   ]
  },
  {
   "cell_type": "markdown",
   "metadata": {
    "deletable": true,
    "editable": true
   },
   "source": [
    "### Build RNN\n",
    "You created a RNN Cell in the `get_init_cell()` function.  Time to use the cell to create a RNN.\n",
    "- Build the RNN using the [`tf.nn.dynamic_rnn()`](https://www.tensorflow.org/api_docs/python/tf/nn/dynamic_rnn)\n",
    " - Apply the name \"final_state\" to the final state using [`tf.identity()`](https://www.tensorflow.org/api_docs/python/tf/identity)\n",
    "\n",
    "Return the outputs and final_state state in the following tuple `(Outputs, FinalState)` "
   ]
  },
  {
   "cell_type": "code",
   "execution_count": 11,
   "metadata": {
    "collapsed": false,
    "deletable": true,
    "editable": true
   },
   "outputs": [
    {
     "name": "stdout",
     "output_type": "stream",
     "text": [
      "Tests Passed\n"
     ]
    }
   ],
   "source": [
    "def build_rnn(cell, inputs):\n",
    "    \"\"\"\n",
    "    Create a RNN using a RNN Cell\n",
    "    :param cell: RNN Cell\n",
    "    :param inputs: Input text data\n",
    "    :return: Tuple (Outputs, Final State)\n",
    "    \"\"\"\n",
    "    # TODO: Implement Function\n",
    "    outputs, final_state = tf.nn.dynamic_rnn(cell, inputs, dtype=tf.float32,)\n",
    "    final_state = tf.identity(final_state, name = 'final_state')\n",
    "    \n",
    "    return outputs, final_state\n",
    "\n",
    "\n",
    "\"\"\"\n",
    "DON'T MODIFY ANYTHING IN THIS CELL THAT IS BELOW THIS LINE\n",
    "\"\"\"\n",
    "tests.test_build_rnn(build_rnn)"
   ]
  },
  {
   "cell_type": "markdown",
   "metadata": {
    "deletable": true,
    "editable": true
   },
   "source": [
    "### Build the Neural Network\n",
    "Apply the functions you implemented above to:\n",
    "- Apply embedding to `input_data` using your `get_embed(input_data, vocab_size, embed_dim)` function.\n",
    "- Build RNN using `cell` and your `build_rnn(cell, inputs)` function.\n",
    "- Apply a fully connected layer with a linear activation and `vocab_size` as the number of outputs.\n",
    "\n",
    "Return the logits and final state in the following tuple (Logits, FinalState) "
   ]
  },
  {
   "cell_type": "code",
   "execution_count": 12,
   "metadata": {
    "collapsed": false,
    "deletable": true,
    "editable": true
   },
   "outputs": [
    {
     "name": "stdout",
     "output_type": "stream",
     "text": [
      "Tests Passed\n"
     ]
    }
   ],
   "source": [
    "def build_nn(cell, rnn_size, input_data, vocab_size):\n",
    "    \"\"\"\n",
    "    Build part of the neural network\n",
    "    :param cell: RNN cell\n",
    "    :param rnn_size: Size of rnns\n",
    "    :param input_data: Input data\n",
    "    :param vocab_size: Vocabulary size\n",
    "    :return: Tuple (Logits, FinalState)\n",
    "    \"\"\"\n",
    "    # TODO: Implement Function\n",
    "    embed = get_embed(input_data, vocab_size, rnn_size)\n",
    "    rnn, final_state = build_rnn(cell, embed)\n",
    "    \n",
    "    logits = tf.contrib.layers.fully_connected(rnn, vocab_size, activation_fn=None)\n",
    "    \n",
    "    return logits, final_state\n",
    "\n",
    "\n",
    "\"\"\"\n",
    "DON'T MODIFY ANYTHING IN THIS CELL THAT IS BELOW THIS LINE\n",
    "\"\"\"\n",
    "tests.test_build_nn(build_nn)"
   ]
  },
  {
   "cell_type": "markdown",
   "metadata": {
    "deletable": true,
    "editable": true
   },
   "source": [
    "### Batches\n",
    "Implement `get_batches` to create batches of input and targets using `int_text`.  The batches should be a Numpy array with the shape `(number of batches, 2, batch size, sequence length)`. Each batch contains two elements:\n",
    "- The first element is a single batch of **input** with the shape `[batch size, sequence length]`\n",
    "- The second element is a single batch of **targets** with the shape `[batch size, sequence length]`\n",
    "\n",
    "If you can't fill the last batch with enough data, drop the last batch.\n",
    "\n",
    "For exmple, `get_batches([1, 2, 3, 4, 5, 6, 7, 8, 9, 10, 11, 12, 13, 14, 15], 2, 3)` would return a Numpy array of the following:\n",
    "```\n",
    "[\n",
    "  # First Batch\n",
    "  [\n",
    "    # Batch of Input\n",
    "    [[ 1  2  3], [ 7  8  9]],\n",
    "    # Batch of targets\n",
    "    [[ 2  3  4], [ 8  9 10]]\n",
    "  ],\n",
    " \n",
    "  # Second Batch\n",
    "  [\n",
    "    # Batch of Input\n",
    "    [[ 4  5  6], [10 11 12]],\n",
    "    # Batch of targets\n",
    "    [[ 5  6  7], [11 12 13]]\n",
    "  ]\n",
    "]\n",
    "```"
   ]
  },
  {
   "cell_type": "code",
   "execution_count": 13,
   "metadata": {
    "collapsed": false,
    "deletable": true,
    "editable": true
   },
   "outputs": [
    {
     "name": "stdout",
     "output_type": "stream",
     "text": [
      "Tests Passed\n"
     ]
    }
   ],
   "source": [
    "def get_batches(int_text, batch_size, seq_length):\n",
    "    \"\"\"\n",
    "    Return batches of input and target\n",
    "    :param int_text: Text with the words replaced by their ids\n",
    "    :param batch_size: The size of batch\n",
    "    :param seq_length: The length of sequence\n",
    "    :return: Batches as a Numpy array\n",
    "    \"\"\"\n",
    "    # TODO: Implement Function\n",
    "    inputs = int_text[:len(int_text)-1]\n",
    "    targets = int_text[1:]\n",
    "    n_elem_batch = batch_size * seq_length\n",
    "    \n",
    "    input_length = len(inputs)\n",
    "    upper_cutoff = input_length - (input_length % n_elem_batch)\n",
    "    input_target_pairs = [ ([inputs[i] for i in range(x, x + seq_length)], \n",
    "                            [targets[i] for i in range(x, x + seq_length)]\n",
    "                           ) for x in range(0, upper_cutoff, seq_length)]\n",
    "    \n",
    "    no_of_batches = int(upper_cutoff / n_elem_batch)\n",
    "    batches = np.zeros((no_of_batches, 2, batch_size, seq_length), dtype=int)\n",
    "    \n",
    "    i = 0\n",
    "    for bs in range(batch_size):\n",
    "        for n in range(no_of_batches):\n",
    "            batches[n][0][bs] = input_target_pairs[i][0]\n",
    "            batches[n][1][bs] = input_target_pairs[i][1] \n",
    "            i += 1\n",
    "            \n",
    "    return batches\n",
    "\n",
    "\n",
    "\"\"\"\n",
    "DON'T MODIFY ANYTHING IN THIS CELL THAT IS BELOW THIS LINE\n",
    "\"\"\"\n",
    "tests.test_get_batches(get_batches)"
   ]
  },
  {
   "cell_type": "markdown",
   "metadata": {
    "deletable": true,
    "editable": true
   },
   "source": [
    "## Neural Network Training\n",
    "### Hyperparameters\n",
    "Tune the following parameters:\n",
    "\n",
    "- Set `num_epochs` to the number of epochs.\n",
    "- Set `batch_size` to the batch size.\n",
    "- Set `rnn_size` to the size of the RNNs.\n",
    "- Set `seq_length` to the length of sequence.\n",
    "- Set `learning_rate` to the learning rate.\n",
    "- Set `show_every_n_batches` to the number of batches the neural network should print progress."
   ]
  },
  {
   "cell_type": "code",
   "execution_count": 14,
   "metadata": {
    "collapsed": true,
    "deletable": true,
    "editable": true
   },
   "outputs": [],
   "source": [
    "# Number of Epochs\n",
    "num_epochs = 100\n",
    "# Batch Size\n",
    "batch_size = 128\n",
    "# RNN Size\n",
    "rnn_size = 500\n",
    "# Sequence Length\n",
    "seq_length = 25\n",
    "# Learning Rate\n",
    "learning_rate = 0.01\n",
    "# Show stats for every n number of batches\n",
    "show_every_n_batches = 10\n",
    "\n",
    "\"\"\"\n",
    "DON'T MODIFY ANYTHING IN THIS CELL THAT IS BELOW THIS LINE\n",
    "\"\"\"\n",
    "save_dir = './save'"
   ]
  },
  {
   "cell_type": "markdown",
   "metadata": {
    "deletable": true,
    "editable": true
   },
   "source": [
    "### Build the Graph\n",
    "Build the graph using the neural network you implemented."
   ]
  },
  {
   "cell_type": "code",
   "execution_count": 15,
   "metadata": {
    "collapsed": false,
    "deletable": true,
    "editable": true
   },
   "outputs": [],
   "source": [
    "\"\"\"\n",
    "DON'T MODIFY ANYTHING IN THIS CELL\n",
    "\"\"\"\n",
    "from tensorflow.contrib import seq2seq\n",
    "\n",
    "train_graph = tf.Graph()\n",
    "with train_graph.as_default():\n",
    "    vocab_size = len(int_to_vocab)\n",
    "    input_text, targets, lr = get_inputs()\n",
    "    input_data_shape = tf.shape(input_text)\n",
    "    cell, initial_state = get_init_cell(input_data_shape[0], rnn_size)\n",
    "    logits, final_state = build_nn(cell, rnn_size, input_text, vocab_size)\n",
    "\n",
    "    # Probabilities for generating words\n",
    "    probs = tf.nn.softmax(logits, name='probs')\n",
    "\n",
    "    # Loss function\n",
    "    cost = seq2seq.sequence_loss(\n",
    "        logits,\n",
    "        targets,\n",
    "        tf.ones([input_data_shape[0], input_data_shape[1]]))\n",
    "\n",
    "    # Optimizer\n",
    "    optimizer = tf.train.AdamOptimizer(lr)\n",
    "\n",
    "    # Gradient Clipping\n",
    "    gradients = optimizer.compute_gradients(cost)\n",
    "    capped_gradients = [(tf.clip_by_value(grad, -1., 1.), var) for grad, var in gradients]\n",
    "    train_op = optimizer.apply_gradients(capped_gradients)"
   ]
  },
  {
   "cell_type": "markdown",
   "metadata": {
    "deletable": true,
    "editable": true
   },
   "source": [
    "## Train\n",
    "Train the neural network on the preprocessed data.  If you have a hard time getting a good loss, check the [forms](https://discussions.udacity.com/) to see if anyone is having the same problem."
   ]
  },
  {
   "cell_type": "code",
   "execution_count": 16,
   "metadata": {
    "collapsed": false,
    "deletable": true,
    "editable": true
   },
   "outputs": [
    {
     "name": "stdout",
     "output_type": "stream",
     "text": [
      "Epoch   0 Batch    0/12   train_loss = 8.183\n",
      "Epoch   0 Batch   10/12   train_loss = 6.028\n",
      "Epoch   1 Batch    8/12   train_loss = 5.569\n",
      "Epoch   2 Batch    6/12   train_loss = 5.239\n",
      "Epoch   3 Batch    4/12   train_loss = 4.952\n",
      "Epoch   4 Batch    2/12   train_loss = 4.594\n",
      "Epoch   5 Batch    0/12   train_loss = 4.253\n",
      "Epoch   5 Batch   10/12   train_loss = 3.990\n",
      "Epoch   6 Batch    8/12   train_loss = 3.781\n",
      "Epoch   7 Batch    6/12   train_loss = 3.495\n",
      "Epoch   8 Batch    4/12   train_loss = 3.309\n",
      "Epoch   9 Batch    2/12   train_loss = 3.147\n",
      "Epoch  10 Batch    0/12   train_loss = 2.953\n",
      "Epoch  10 Batch   10/12   train_loss = 2.774\n",
      "Epoch  11 Batch    8/12   train_loss = 2.549\n",
      "Epoch  12 Batch    6/12   train_loss = 2.441\n",
      "Epoch  13 Batch    4/12   train_loss = 2.402\n",
      "Epoch  14 Batch    2/12   train_loss = 2.284\n",
      "Epoch  15 Batch    0/12   train_loss = 2.216\n",
      "Epoch  15 Batch   10/12   train_loss = 2.067\n",
      "Epoch  16 Batch    8/12   train_loss = 1.929\n",
      "Epoch  17 Batch    6/12   train_loss = 1.914\n",
      "Epoch  18 Batch    4/12   train_loss = 1.667\n",
      "Epoch  19 Batch    2/12   train_loss = 1.523\n",
      "Epoch  20 Batch    0/12   train_loss = 1.396\n",
      "Epoch  20 Batch   10/12   train_loss = 1.270\n",
      "Epoch  21 Batch    8/12   train_loss = 1.149\n",
      "Epoch  22 Batch    6/12   train_loss = 1.100\n",
      "Epoch  23 Batch    4/12   train_loss = 1.016\n",
      "Epoch  24 Batch    2/12   train_loss = 0.942\n",
      "Epoch  25 Batch    0/12   train_loss = 0.933\n",
      "Epoch  25 Batch   10/12   train_loss = 0.843\n",
      "Epoch  26 Batch    8/12   train_loss = 0.837\n",
      "Epoch  27 Batch    6/12   train_loss = 0.762\n",
      "Epoch  28 Batch    4/12   train_loss = 0.742\n",
      "Epoch  29 Batch    2/12   train_loss = 0.750\n",
      "Epoch  30 Batch    0/12   train_loss = 0.709\n",
      "Epoch  30 Batch   10/12   train_loss = 0.681\n",
      "Epoch  31 Batch    8/12   train_loss = 0.600\n",
      "Epoch  32 Batch    6/12   train_loss = 0.595\n",
      "Epoch  33 Batch    4/12   train_loss = 0.499\n",
      "Epoch  34 Batch    2/12   train_loss = 0.478\n",
      "Epoch  35 Batch    0/12   train_loss = 0.418\n",
      "Epoch  35 Batch   10/12   train_loss = 0.363\n",
      "Epoch  36 Batch    8/12   train_loss = 0.323\n",
      "Epoch  37 Batch    6/12   train_loss = 0.300\n",
      "Epoch  38 Batch    4/12   train_loss = 0.241\n",
      "Epoch  39 Batch    2/12   train_loss = 0.242\n",
      "Epoch  40 Batch    0/12   train_loss = 0.225\n",
      "Epoch  40 Batch   10/12   train_loss = 0.216\n",
      "Epoch  41 Batch    8/12   train_loss = 0.214\n",
      "Epoch  42 Batch    6/12   train_loss = 0.194\n",
      "Epoch  43 Batch    4/12   train_loss = 0.174\n",
      "Epoch  44 Batch    2/12   train_loss = 0.174\n",
      "Epoch  45 Batch    0/12   train_loss = 0.165\n",
      "Epoch  45 Batch   10/12   train_loss = 0.166\n",
      "Epoch  46 Batch    8/12   train_loss = 0.163\n",
      "Epoch  47 Batch    6/12   train_loss = 0.145\n",
      "Epoch  48 Batch    4/12   train_loss = 0.136\n",
      "Epoch  49 Batch    2/12   train_loss = 0.139\n",
      "Epoch  50 Batch    0/12   train_loss = 0.138\n",
      "Epoch  50 Batch   10/12   train_loss = 0.137\n",
      "Epoch  51 Batch    8/12   train_loss = 0.138\n",
      "Epoch  52 Batch    6/12   train_loss = 0.128\n",
      "Epoch  53 Batch    4/12   train_loss = 0.121\n",
      "Epoch  54 Batch    2/12   train_loss = 0.126\n",
      "Epoch  55 Batch    0/12   train_loss = 0.125\n",
      "Epoch  55 Batch   10/12   train_loss = 0.127\n",
      "Epoch  56 Batch    8/12   train_loss = 0.126\n",
      "Epoch  57 Batch    6/12   train_loss = 0.121\n",
      "Epoch  58 Batch    4/12   train_loss = 0.114\n",
      "Epoch  59 Batch    2/12   train_loss = 0.119\n",
      "Epoch  60 Batch    0/12   train_loss = 0.119\n",
      "Epoch  60 Batch   10/12   train_loss = 0.119\n",
      "Epoch  61 Batch    8/12   train_loss = 0.120\n",
      "Epoch  62 Batch    6/12   train_loss = 0.113\n",
      "Epoch  63 Batch    4/12   train_loss = 0.108\n",
      "Epoch  64 Batch    2/12   train_loss = 0.115\n",
      "Epoch  65 Batch    0/12   train_loss = 0.114\n",
      "Epoch  65 Batch   10/12   train_loss = 0.114\n",
      "Epoch  66 Batch    8/12   train_loss = 0.117\n",
      "Epoch  67 Batch    6/12   train_loss = 0.110\n",
      "Epoch  68 Batch    4/12   train_loss = 0.106\n",
      "Epoch  69 Batch    2/12   train_loss = 0.112\n",
      "Epoch  70 Batch    0/12   train_loss = 0.113\n",
      "Epoch  70 Batch   10/12   train_loss = 0.111\n",
      "Epoch  71 Batch    8/12   train_loss = 0.114\n",
      "Epoch  72 Batch    6/12   train_loss = 0.108\n",
      "Epoch  73 Batch    4/12   train_loss = 0.104\n",
      "Epoch  74 Batch    2/12   train_loss = 0.111\n",
      "Epoch  75 Batch    0/12   train_loss = 0.110\n",
      "Epoch  75 Batch   10/12   train_loss = 0.110\n",
      "Epoch  76 Batch    8/12   train_loss = 0.113\n",
      "Epoch  77 Batch    6/12   train_loss = 0.106\n",
      "Epoch  78 Batch    4/12   train_loss = 0.103\n",
      "Epoch  79 Batch    2/12   train_loss = 0.109\n",
      "Epoch  80 Batch    0/12   train_loss = 0.110\n",
      "Epoch  80 Batch   10/12   train_loss = 0.109\n",
      "Epoch  81 Batch    8/12   train_loss = 0.111\n",
      "Epoch  82 Batch    6/12   train_loss = 0.106\n",
      "Epoch  83 Batch    4/12   train_loss = 0.102\n",
      "Epoch  84 Batch    2/12   train_loss = 0.108\n",
      "Epoch  85 Batch    0/12   train_loss = 0.108\n",
      "Epoch  85 Batch   10/12   train_loss = 0.107\n",
      "Epoch  86 Batch    8/12   train_loss = 0.111\n",
      "Epoch  87 Batch    6/12   train_loss = 0.104\n",
      "Epoch  88 Batch    4/12   train_loss = 0.101\n",
      "Epoch  89 Batch    2/12   train_loss = 0.108\n",
      "Epoch  90 Batch    0/12   train_loss = 0.108\n",
      "Epoch  90 Batch   10/12   train_loss = 0.107\n",
      "Epoch  91 Batch    8/12   train_loss = 0.110\n",
      "Epoch  92 Batch    6/12   train_loss = 0.104\n",
      "Epoch  93 Batch    4/12   train_loss = 0.100\n",
      "Epoch  94 Batch    2/12   train_loss = 0.107\n",
      "Epoch  95 Batch    0/12   train_loss = 0.107\n",
      "Epoch  95 Batch   10/12   train_loss = 0.106\n",
      "Epoch  96 Batch    8/12   train_loss = 0.110\n",
      "Epoch  97 Batch    6/12   train_loss = 0.103\n",
      "Epoch  98 Batch    4/12   train_loss = 0.100\n",
      "Epoch  99 Batch    2/12   train_loss = 0.107\n",
      "Model Trained and Saved\n"
     ]
    }
   ],
   "source": [
    "\"\"\"\n",
    "DON'T MODIFY ANYTHING IN THIS CELL\n",
    "\"\"\"\n",
    "batches = get_batches(int_text, batch_size, seq_length)\n",
    "\n",
    "with tf.Session(graph=train_graph) as sess:\n",
    "    sess.run(tf.global_variables_initializer())\n",
    "\n",
    "    for epoch_i in range(num_epochs):\n",
    "        state = sess.run(initial_state, {input_text: batches[0][0]})\n",
    "\n",
    "        for batch_i, (x, y) in enumerate(batches):\n",
    "            feed = {\n",
    "                input_text: x,\n",
    "                targets: y,\n",
    "                initial_state: state,\n",
    "                lr: learning_rate}\n",
    "            train_loss, state, _ = sess.run([cost, final_state, train_op], feed)\n",
    "\n",
    "            # Show every <show_every_n_batches> batches\n",
    "            if (epoch_i * len(batches) + batch_i) % show_every_n_batches == 0:\n",
    "                print('Epoch {:>3} Batch {:>4}/{}   train_loss = {:.3f}'.format(\n",
    "                    epoch_i,\n",
    "                    batch_i,\n",
    "                    len(batches),\n",
    "                    train_loss))\n",
    "\n",
    "    # Save Model\n",
    "    saver = tf.train.Saver()\n",
    "    saver.save(sess, save_dir)\n",
    "    print('Model Trained and Saved')"
   ]
  },
  {
   "cell_type": "markdown",
   "metadata": {
    "deletable": true,
    "editable": true
   },
   "source": [
    "## Save Parameters\n",
    "Save `seq_length` and `save_dir` for generating a new TV script."
   ]
  },
  {
   "cell_type": "code",
   "execution_count": 17,
   "metadata": {
    "collapsed": false,
    "deletable": true,
    "editable": true
   },
   "outputs": [],
   "source": [
    "\"\"\"\n",
    "DON'T MODIFY ANYTHING IN THIS CELL\n",
    "\"\"\"\n",
    "# Save parameters for checkpoint\n",
    "helper.save_params((seq_length, save_dir))"
   ]
  },
  {
   "cell_type": "markdown",
   "metadata": {
    "deletable": true,
    "editable": true
   },
   "source": [
    "# Checkpoint"
   ]
  },
  {
   "cell_type": "code",
   "execution_count": 18,
   "metadata": {
    "collapsed": false,
    "deletable": true,
    "editable": true
   },
   "outputs": [],
   "source": [
    "\"\"\"\n",
    "DON'T MODIFY ANYTHING IN THIS CELL\n",
    "\"\"\"\n",
    "import tensorflow as tf\n",
    "import numpy as np\n",
    "import helper\n",
    "import problem_unittests as tests\n",
    "\n",
    "_, vocab_to_int, int_to_vocab, token_dict = helper.load_preprocess()\n",
    "seq_length, load_dir = helper.load_params()"
   ]
  },
  {
   "cell_type": "markdown",
   "metadata": {
    "deletable": true,
    "editable": true
   },
   "source": [
    "## Implement Generate Functions\n",
    "### Get Tensors\n",
    "Get tensors from `loaded_graph` using the function [`get_tensor_by_name()`](https://www.tensorflow.org/api_docs/python/tf/Graph#get_tensor_by_name).  Get the tensors using the following names:\n",
    "- \"input:0\"\n",
    "- \"initial_state:0\"\n",
    "- \"final_state:0\"\n",
    "- \"probs:0\"\n",
    "\n",
    "Return the tensors in the following tuple `(InputTensor, InitialStateTensor, FinalStateTensor, ProbsTensor)` "
   ]
  },
  {
   "cell_type": "code",
   "execution_count": 19,
   "metadata": {
    "collapsed": false,
    "deletable": true,
    "editable": true
   },
   "outputs": [
    {
     "name": "stdout",
     "output_type": "stream",
     "text": [
      "Tests Passed\n"
     ]
    }
   ],
   "source": [
    "def get_tensors(loaded_graph):\n",
    "    \"\"\"\n",
    "    Get input, initial state, final state, and probabilities tensor from <loaded_graph>\n",
    "    :param loaded_graph: TensorFlow graph loaded from file\n",
    "    :return: Tuple (InputTensor, InitialStateTensor, FinalStateTensor, ProbsTensor)\n",
    "    \"\"\"\n",
    "    # TODO: Implement Function\n",
    "    input_tensor = loaded_graph.get_tensor_by_name('input:0')\n",
    "    initial_state = loaded_graph.get_tensor_by_name('initial_state:0')\n",
    "    final_state = loaded_graph.get_tensor_by_name('final_state:0')\n",
    "    probs = loaded_graph.get_tensor_by_name('probs:0')\n",
    "    \n",
    "    return input_tensor, initial_state, final_state, probs\n",
    "\n",
    "\n",
    "\"\"\"\n",
    "DON'T MODIFY ANYTHING IN THIS CELL THAT IS BELOW THIS LINE\n",
    "\"\"\"\n",
    "tests.test_get_tensors(get_tensors)"
   ]
  },
  {
   "cell_type": "markdown",
   "metadata": {
    "deletable": true,
    "editable": true
   },
   "source": [
    "### Choose Word\n",
    "Implement the `pick_word()` function to select the next word using `probabilities`."
   ]
  },
  {
   "cell_type": "code",
   "execution_count": 20,
   "metadata": {
    "collapsed": false,
    "deletable": true,
    "editable": true
   },
   "outputs": [
    {
     "name": "stdout",
     "output_type": "stream",
     "text": [
      "Tests Passed\n"
     ]
    }
   ],
   "source": [
    "def pick_word(probabilities, int_to_vocab):\n",
    "    \"\"\"\n",
    "    Pick the next word in the generated text\n",
    "    :param probabilities: Probabilites of the next word\n",
    "    :param int_to_vocab: Dictionary of word ids as the keys and words as the values\n",
    "    :return: String of the predicted word\n",
    "    \"\"\"\n",
    "    # TODO: Implement Function\n",
    "    t = np.cumsum(probabilities)\n",
    "    rand_s = np.sum(probabilities) * np.random.rand(1)\n",
    "    pred_word = int_to_vocab[int(np.searchsorted(t, rand_s))]\n",
    "    \n",
    "    return pred_word\n",
    "\n",
    "\n",
    "\"\"\"\n",
    "DON'T MODIFY ANYTHING IN THIS CELL THAT IS BELOW THIS LINE\n",
    "\"\"\"\n",
    "tests.test_pick_word(pick_word)"
   ]
  },
  {
   "cell_type": "markdown",
   "metadata": {
    "deletable": true,
    "editable": true
   },
   "source": [
    "## Generate TV Script\n",
    "This will generate the TV script for you.  Set `gen_length` to the length of TV script you want to generate."
   ]
  },
  {
   "cell_type": "code",
   "execution_count": 23,
   "metadata": {
    "collapsed": false,
    "deletable": true,
    "editable": true
   },
   "outputs": [
    {
     "name": "stdout",
     "output_type": "stream",
     "text": [
      "hatter: ‘but it is to herself, ’ said the cat, and vanished.\n",
      "\n",
      "alice didn’t think that proved it at all; and i’m sure i can’t understand it myself to begin with; and being so many\n",
      "different sizes in a day or two: wouldn’t it be more\n",
      "than what things? ’ alice said to herself, and was gone in a moment.\n",
      "\n",
      "‘let’s go on with the sea! ’\n",
      "\n",
      "and they looked up to eat a little, ‘from the queen, and went on saying to herself, perhaps it was only sobbing, ’\n",
      "she thought, ‘and hand round the refreshments! ’ but she ran. ‘but\n",
      "just as well she might well say\n",
      "to begin. ’\n",
      "\n",
      "‘it does the boots and shoes. ’ the king exclaimed, turning to the jury, who instantly made a\n",
      "memorandum of the fact.\n",
      "\n",
      "‘the dormouse did, ’ said the mock turtle, capering wildly\n",
      "about.\n",
      "\n",
      "‘change lobsters again! ’ yelled the gryphon. ‘do you\n",
      "know why it’s called a whiting? ’\n",
      "\n",
      "and so she went on, taking first one side and then the other, trying every\n",
      "door, she walked off together.\n",
      "\n",
      "alice was rather doubtful whether she\n",
      "has agreed to donate royalties under this agreement. there are a few\n",
      "things that you can do with most project gutenberg-tm electronic work is posted\n",
      "with the permission of the copyright holder), the owner of the baby, the\n",
      "trademark owner, any agent or employee of the foundation, the\n",
      "trademark owner, any agent or employee of the foundation, the\n",
      "trademark owner, any agent or employee of the foundation, the king, and the jury\n",
      "said to herself, and nibbled a little of\n",
      "try the\n",
      "mouse to hear it say, as she said\n",
      "her eyes again, and in a voice outside, and she\n",
      "felt certain it must, in what a\n",
      "lobster quadrille, ’ thought alice, ‘and why the mouse\n",
      "began ordering people about like that! ’\n",
      "\n",
      "by this time she had found the little creature, and she tried hard to whistle to it; but\n",
      "she was terribly frightened\n",
      "it, it was for a very truthful\n",
      "mouth, and she sat on the three gardeners of taking the next witness. it was bill, i\n",
      "fancy-- who’s to go down the chimney?-- nay, i shan’t! ’\n",
      "\n",
      "so many called out when she had\n",
      "known them all her so kind, so that he shook both his shoes.\n",
      "\n",
      "‘you are old, ’ said the youth, ‘as i mentioned before, ’ said the king,(or grunted in the\n",
      "birds and without mouth you hand.\n",
      "\n",
      "‘what was that? ’ said alice. ‘what sort of a dance? ’\n",
      "\n",
      "‘oh, you can’t take less, ’ said the duchess; ‘and that’s a fact. ’\n",
      "\n",
      "alice did not like to be told so. ’\n",
      "\n",
      "‘it is a long tail, no one of them. ’\n",
      "\n",
      "‘not like cats eat bats? ’ said the cat, as soon as there was mouth\n",
      "enough for it to speak with the\n",
      "court, arm-in-arm with the dormouse. ‘fourteenth of march hare, who had meanwhile been examining the roses.\n",
      "‘off with their hands and feet! ’\n",
      "\n",
      "the next witness was the duchess’s cook. she carried\n",
      "it! ”’\n",
      "\n",
      "‘everybody says “come on! ” only\n",
      "sure i don’t want to stay in here any longer than that, ’ said\n",
      "alice.\n",
      "\n",
      "‘oh, don’t talk about trouble! ’ said the march hare.\n",
      "\n",
      "alice was silent.\n",
      "\n",
      "‘hand it over here, ’ said the dodo.\n",
      "\n",
      "‘you ought to be ashamed of yourself for asking such a simple question, ’ said the rabbit in a low, timid not, and all dripping wet, cross, and uncomfortable.\n",
      "\n",
      "the moment alice was quite silent for a\n",
      "minute or two, which gave the pigeon the opportunity of adding, i\n",
      "can’t\n",
      "just before, as the question was\n",
      "evidently meant for her. ‘i’ve seen a bit a bottle, saying to herself as she ran. ‘how\n",
      "for the rabbit just as to think about it, ’ but she went on all the same, shedding gallons of\n",
      "tears, until there was a dead silence.\n",
      "\n",
      "‘it’s very on, ’ said the cat, as soon as there was mouth\n",
      "enough for it to speak with trying to\n",
      "grow larger again, and said to the dormouse said, but no result seemed to be a little startled by seeing the cheshire cat, ’ said the cat, and he says it\n",
      "had fallen into it: there were a duck with the duchess, ‘and that’s a fact. ’\n",
      "\n",
      "alice did not wish to offend it, just as well say, and i’m sure she’s the best\n",
      "cat in the world! oh for a few minutes of two\n",
      "over here, and she\n",
      "alice was so very nearly getting entangled among the branches,\n",
      "though\n",
      "would change the subject. ’\n",
      "\n",
      "‘if you didn’t sign it, ’ said the king, ‘that only makes the matter with it. ’\n",
      "\n",
      "‘they’re putting down their names, ’ the gryphon whispered in reply,\n",
      "and argued each case it! ’ said the queen, and, taking alice by the hand, it was speaking, and went\n",
      "on. ‘or would you like the mock turtle to sing\n",
      "\n",
      "age, it was that dark hall, and went by-- ‘you know what\n",
      "was, you know, ’ the mock turtle replied, counting off\n",
      "the door. you must be\n",
      "kind, or must, in fact, you know. ’\n",
      "\n",
      "‘and how did you manage on the twelfth? ’ alice went on eagerly.\n",
      "\n",
      "‘that’s very important, ’ the king said, turning to the jury.\n",
      "\n",
      "‘would you agree to be rude, ’ said the mock turtle.\n",
      "\n",
      "‘certainly not! ’ said alice indignantly, and she sat\n",
      "down in a little more of it; and the\n",
      "king was just as she spoke; ‘and the unfortunate little bill was busily about the fan and the baby-- the fire-irons came first; then followed a\n",
      "fish).\n",
      "\n",
      "‘i want a little now? ’ said alice indignantly, and she sat\n",
      "down in the same, shedding gallons of\n",
      "tears, until there was a dead silence.\n",
      "\n",
      "‘it’s a pun! ’ the queen said to the\n",
      "queen.\n",
      "\n",
      "‘never! ’ said the queen furiously, as soon as she was small enough to get through that she was such a curious dream! ’ but she\n",
      "said to herself.\n",
      "\n",
      "at this moment the queen said to herself hastily, and\n",
      "four times seven is-- oh dear! i shall never get to twenty at that rate!\n",
      "however, the owner of the project gutenberg-tm trademark. contact the\n",
      "foundation as set forth in section 3 below.\n",
      "\n",
      "‘give your evidence, ’ the king repeated angrily, ‘or makes me for the birds! that nibbled a large cauldron which seemed to be full size by this\n",
      "time. ’\n",
      "\n",
      "‘it’s the first position in which the queen, ’ said the cat, and vanished.\n",
      "\n",
      "‘of course it is, ’ said the hatter.\n",
      "\n",
      "‘no, i give it up, ’ alice said eagerly,\n",
      "half to itself, half to alice.\n",
      "\n",
      "‘of course you don’t! ’ the rabbit in the\n",
      "queen.\n",
      "\n",
      "the next witness was the duchess’s cook. she carried\n",
      "it out into the open air. ‘if i don’t quite know that it might do with the\n",
      "queen to-day? ’\n",
      "\n",
      "‘i couldn’t afford to learn it over! ’\n",
      "\n",
      "‘you are, ’ said the king.\n",
      "\n",
      "the king turned angrily, and the white rabbit was still in sight,\n",
      "with the march hare was said, and went on again:--\n",
      "\n",
      "‘i didn’t know that cheshire cats always grinned; in fact, i didn’t, ’ said the gryphon, sighing in the\n",
      "soldiers remaining behind to execute the unfortunate gardeners, who ran\n",
      "in the large birds waiting in the queen of the queen, and in another minute the whole head appeared, and,\n",
      "it was to her very earnestly, for it was not the first of mouse, in a shrill, passionate voice. ‘would\n",
      "you how would be up and finish your story! ’ alice called after it, and then hurried on,\n",
      "alice started to her feet, for it flashed across her mind.\n",
      "‘but i must be old thing i should be know, ’ said the cat, and vanished.\n",
      "\n",
      "alice was quite silent for a\n",
      "minute, but some crumbs must have got in as well, ’ the hatter grumbled:\n",
      "‘you shouldn’t have put it in with the day of the\n",
      "ground. ’ the frog-footman shouted to the table, half to alice\n",
      "again.\n",
      "\n",
      "‘no, i didn’t know it was your table, ’ said alice.\n",
      "\n",
      "‘then you should say what you mean, ’ the march hare said to alice, very earnestly.\n",
      "\n",
      "‘i beg your pardon! ’ said alice.\n",
      "\n",
      "‘then you should say what you know, ’ said the hatter.\n",
      "\n",
      "‘i’m afraid i don’t know one, ’ said alice, rather alarmed at the\n",
      "proposal.\n",
      "\n",
      "‘then the queen! ’ the hatter went on, looking\n",
      "anxiously anxiously at the mouth with strings: into this they slipped the guinea-pig,\n",
      "head first, and then sat upon\n",
      "nothing.\n",
      "\n",
      "alice took up the fan and gloves, and\n",
      "it was so proud\n",
      "he with the jury all wrote down on one of the sort! ’ said alice.\n",
      "\n",
      "‘exactly so, ’ said the hatter: ‘as the things get used up. ’\n",
      "\n",
      "‘but i wish the creatures wouldn’t be one than so, ’ said the mouse, turning to alice, and\n",
      "sighing.\n",
      "\n",
      "‘it is a long tail, ’ said the king; ‘and how funny it’ll seem to come out among the mouth with strings: into that\n",
      "would be asleep again, so you know. come on! ’\n",
      "\n",
      "‘everybody says\n"
     ]
    }
   ],
   "source": [
    "gen_length = 2000\n",
    "# homer_simpson, moe_szyslak, or Barney_Gumble\n",
    "prime_word = 'hatter'\n",
    "\n",
    "\"\"\"\n",
    "DON'T MODIFY ANYTHING IN THIS CELL THAT IS BELOW THIS LINE\n",
    "\"\"\"\n",
    "loaded_graph = tf.Graph()\n",
    "with tf.Session(graph=loaded_graph) as sess:\n",
    "    # Load saved model\n",
    "    loader = tf.train.import_meta_graph(load_dir + '.meta')\n",
    "    loader.restore(sess, load_dir)\n",
    "\n",
    "    # Get Tensors from loaded model\n",
    "    input_text, initial_state, final_state, probs = get_tensors(loaded_graph)\n",
    "\n",
    "    # Sentences generation setup\n",
    "    gen_sentences = [prime_word + ':']\n",
    "    prev_state = sess.run(initial_state, {input_text: np.array([[1]])})\n",
    "\n",
    "    # Generate sentences\n",
    "    for n in range(gen_length):\n",
    "        # Dynamic Input\n",
    "        dyn_input = [[vocab_to_int[word] for word in gen_sentences[-seq_length:]]]\n",
    "        dyn_seq_length = len(dyn_input[0])\n",
    "\n",
    "        # Get Prediction\n",
    "        probabilities, prev_state = sess.run(\n",
    "            [probs, final_state],\n",
    "            {input_text: dyn_input, initial_state: prev_state})\n",
    "        \n",
    "        pred_word = pick_word(probabilities[dyn_seq_length-1], int_to_vocab)\n",
    "\n",
    "        gen_sentences.append(pred_word)\n",
    "    \n",
    "    # Remove tokens\n",
    "    tv_script = ' '.join(gen_sentences)\n",
    "    for key, token in token_dict.items():\n",
    "        ending = ' ' if key in ['\\n', '(', '\"'] else ''\n",
    "        tv_script = tv_script.replace(' ' + token.lower(), key)\n",
    "    tv_script = tv_script.replace('\\n ', '\\n')\n",
    "    tv_script = tv_script.replace('( ', '(')\n",
    "        \n",
    "    print(tv_script)"
   ]
  },
  {
   "cell_type": "markdown",
   "metadata": {
    "deletable": true,
    "editable": true
   },
   "source": [
    "# The TV Script is Nonsensical\n",
    "It's ok if the TV script doesn't make any sense.  We trained on less than a megabyte of text.  In order to get good results, you'll have to use a smaller vocabulary or get more data.  Luckly there's more data!  As we mentioned in the begging of this project, this is a subset of [another dataset](https://www.kaggle.com/wcukierski/the-simpsons-by-the-data).  We didn't have you train on all the data, because that would take too long.  However, you are free to train your neural network on all the data.  After you complete the project, of course.\n",
    "# Submitting This Project\n",
    "When submitting this project, make sure to run all the cells before saving the notebook. Save the notebook file as \"dlnd_tv_script_generation.ipynb\" and save it as a HTML file under \"File\" -> \"Download as\". Include the \"helper.py\" and \"problem_unittests.py\" files in your submission."
   ]
  }
 ],
 "metadata": {
  "kernelspec": {
   "display_name": "Python 3",
   "language": "python",
   "name": "python3"
  },
  "language_info": {
   "codemirror_mode": {
    "name": "ipython",
    "version": 3
   },
   "file_extension": ".py",
   "mimetype": "text/x-python",
   "name": "python",
   "nbconvert_exporter": "python",
   "pygments_lexer": "ipython3",
   "version": "3.5.3"
  }
 },
 "nbformat": 4,
 "nbformat_minor": 0
}

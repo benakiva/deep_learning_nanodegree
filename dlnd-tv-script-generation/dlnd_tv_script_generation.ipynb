{
 "cells": [
  {
   "cell_type": "markdown",
   "metadata": {
    "deletable": true,
    "editable": true
   },
   "source": [
    "# TV Script Generation\n",
    "In this project, you'll generate your own [Simpsons](https://en.wikipedia.org/wiki/The_Simpsons) TV scripts using RNNs.  You'll be using part of the [Simpsons dataset](https://www.kaggle.com/wcukierski/the-simpsons-by-the-data) of scripts from 27 seasons.  The Neural Network you'll build will generate a new TV script for a scene at [Moe's Tavern](https://simpsonswiki.com/wiki/Moe's_Tavern).\n",
    "## Get the Data\n",
    "The data is already provided for you.  You'll be using a subset of the original dataset.  It consists of only the scenes in Moe's Tavern.  This doesn't include other versions of the tavern, like \"Moe's Cavern\", \"Flaming Moe's\", \"Uncle Moe's Family Feed-Bag\", etc.."
   ]
  },
  {
   "cell_type": "code",
   "execution_count": 1,
   "metadata": {
    "collapsed": false,
    "deletable": true,
    "editable": true
   },
   "outputs": [],
   "source": [
    "\"\"\"\n",
    "DON'T MODIFY ANYTHING IN THIS CELL\n",
    "\"\"\"\n",
    "import helper\n",
    "\n",
    "data_dir = './data/simpsons/moes_tavern_lines.txt'\n",
    "text = helper.load_data(data_dir)\n",
    "# Ignore notice, since we don't use it for analysing the data\n",
    "text = text[81:]"
   ]
  },
  {
   "cell_type": "markdown",
   "metadata": {
    "deletable": true,
    "editable": true
   },
   "source": [
    "## Explore the Data\n",
    "Play around with `view_sentence_range` to view different parts of the data."
   ]
  },
  {
   "cell_type": "code",
   "execution_count": 2,
   "metadata": {
    "collapsed": false,
    "deletable": true,
    "editable": true
   },
   "outputs": [
    {
     "name": "stdout",
     "output_type": "stream",
     "text": [
      "Dataset Stats\n",
      "Roughly the number of unique words: 11492\n",
      "Number of scenes: 262\n",
      "Average number of sentences in each scene: 15.248091603053435\n",
      "Number of lines: 4257\n",
      "Average number of words in each line: 11.50434578341555\n",
      "\n",
      "The sentences 0 to 10:\n",
      "Moe_Szyslak: (INTO PHONE) Moe's Tavern. Where the elite meet to drink.\n",
      "Bart_Simpson: Eh, yeah, hello, is Mike there? Last name, Rotch.\n",
      "Moe_Szyslak: (INTO PHONE) Hold on, I'll check. (TO BARFLIES) Mike Rotch. Mike Rotch. Hey, has anybody seen Mike Rotch, lately?\n",
      "Moe_Szyslak: (INTO PHONE) Listen you little puke. One of these days I'm gonna catch you, and I'm gonna carve my name on your back with an ice pick.\n",
      "Moe_Szyslak: What's the matter Homer? You're not your normal effervescent self.\n",
      "Homer_Simpson: I got my problems, Moe. Give me another one.\n",
      "Moe_Szyslak: Homer, hey, you should not drink to forget your problems.\n",
      "Barney_Gumble: Yeah, you should only drink to enhance your social skills.\n",
      "\n",
      "\n"
     ]
    }
   ],
   "source": [
    "view_sentence_range = (0, 10)\n",
    "\n",
    "\"\"\"\n",
    "DON'T MODIFY ANYTHING IN THIS CELL\n",
    "\"\"\"\n",
    "import numpy as np\n",
    "\n",
    "print('Dataset Stats')\n",
    "print('Roughly the number of unique words: {}'.format(len({word: None for word in text.split()})))\n",
    "scenes = text.split('\\n\\n')\n",
    "print('Number of scenes: {}'.format(len(scenes)))\n",
    "sentence_count_scene = [scene.count('\\n') for scene in scenes]\n",
    "print('Average number of sentences in each scene: {}'.format(np.average(sentence_count_scene)))\n",
    "\n",
    "sentences = [sentence for scene in scenes for sentence in scene.split('\\n')]\n",
    "print('Number of lines: {}'.format(len(sentences)))\n",
    "word_count_sentence = [len(sentence.split()) for sentence in sentences]\n",
    "print('Average number of words in each line: {}'.format(np.average(word_count_sentence)))\n",
    "\n",
    "print()\n",
    "print('The sentences {} to {}:'.format(*view_sentence_range))\n",
    "print('\\n'.join(text.split('\\n')[view_sentence_range[0]:view_sentence_range[1]]))"
   ]
  },
  {
   "cell_type": "markdown",
   "metadata": {
    "deletable": true,
    "editable": true
   },
   "source": [
    "## Implement Preprocessing Functions\n",
    "The first thing to do to any dataset is preprocessing.  Implement the following preprocessing functions below:\n",
    "- Lookup Table\n",
    "- Tokenize Punctuation\n",
    "\n",
    "### Lookup Table\n",
    "To create a word embedding, you first need to transform the words to ids.  In this function, create two dictionaries:\n",
    "- Dictionary to go from the words to an id, we'll call `vocab_to_int`\n",
    "- Dictionary to go from the id to word, we'll call `int_to_vocab`\n",
    "\n",
    "Return these dictionaries in the following tuple `(vocab_to_int, int_to_vocab)`"
   ]
  },
  {
   "cell_type": "code",
   "execution_count": 3,
   "metadata": {
    "collapsed": false,
    "deletable": true,
    "editable": true
   },
   "outputs": [
    {
     "name": "stdout",
     "output_type": "stream",
     "text": [
      "Tests Passed\n"
     ]
    }
   ],
   "source": [
    "import numpy as np\n",
    "import problem_unittests as tests\n",
    "\n",
    "def create_lookup_tables(text):\n",
    "    \"\"\"\n",
    "    Create lookup tables for vocabulary\n",
    "    :param text: The text of tv scripts split into words\n",
    "    :return: A tuple of dicts (vocab_to_int, int_to_vocab)\n",
    "    \"\"\"\n",
    "    # TODO: Implement Function\n",
    "    vocab = set(text)\n",
    "    vocab_to_int = {c: i for i, c in enumerate(vocab)}\n",
    "    int_to_vocab = dict(enumerate(vocab))\n",
    "    \n",
    "    return vocab_to_int, int_to_vocab\n",
    "\n",
    "\n",
    "\"\"\"\n",
    "DON'T MODIFY ANYTHING IN THIS CELL THAT IS BELOW THIS LINE\n",
    "\"\"\"\n",
    "tests.test_create_lookup_tables(create_lookup_tables)"
   ]
  },
  {
   "cell_type": "markdown",
   "metadata": {
    "deletable": true,
    "editable": true
   },
   "source": [
    "### Tokenize Punctuation\n",
    "We'll be splitting the script into a word array using spaces as delimiters.  However, punctuations like periods and exclamation marks make it hard for the neural network to distinguish between the word \"bye\" and \"bye!\".\n",
    "\n",
    "Implement the function `token_lookup` to return a dict that will be used to tokenize symbols like \"!\" into \"||Exclamation_Mark||\".  Create a dictionary for the following symbols where the symbol is the key and value is the token:\n",
    "- Period ( . )\n",
    "- Comma ( , )\n",
    "- Quotation Mark ( \" )\n",
    "- Semicolon ( ; )\n",
    "- Exclamation mark ( ! )\n",
    "- Question mark ( ? )\n",
    "- Left Parentheses ( ( )\n",
    "- Right Parentheses ( ) )\n",
    "- Dash ( -- )\n",
    "- Return ( \\n )\n",
    "\n",
    "This dictionary will be used to token the symbols and add the delimiter (space) around it.  This separates the symbols as it's own word, making it easier for the neural network to predict on the next word. Make sure you don't use a token that could be confused as a word. Instead of using the token \"dash\", try using something like \"||dash||\"."
   ]
  },
  {
   "cell_type": "code",
   "execution_count": 4,
   "metadata": {
    "collapsed": false,
    "deletable": true,
    "editable": true
   },
   "outputs": [
    {
     "name": "stdout",
     "output_type": "stream",
     "text": [
      "Tests Passed\n"
     ]
    }
   ],
   "source": [
    "def token_lookup():\n",
    "    \"\"\"\n",
    "    Generate a dict to turn punctuation into a token.\n",
    "    :return: Tokenize dictionary where the key is the punctuation and the value is the token\n",
    "    \"\"\"\n",
    "    # TODO: Implement Function\n",
    "    dict = {'.': '||Period||', ',': '||Comma||', '\"': '||Quotation_Mark||', ';': '||Semicolon||', \n",
    "            '!': '||Exclamation_Mark||', '?': '||Question_Mark||', '(': '||Left_Parentheses||',\n",
    "           ')': '||Right_Parentheses||', '--': '||Dash||', '\\n': '||Return||'}\n",
    "    \n",
    "    return dict\n",
    "\n",
    "\"\"\"\n",
    "DON'T MODIFY ANYTHING IN THIS CELL THAT IS BELOW THIS LINE\n",
    "\"\"\"\n",
    "tests.test_tokenize(token_lookup)"
   ]
  },
  {
   "cell_type": "markdown",
   "metadata": {
    "deletable": true,
    "editable": true
   },
   "source": [
    "## Preprocess all the data and save it\n",
    "Running the code cell below will preprocess all the data and save it to file."
   ]
  },
  {
   "cell_type": "code",
   "execution_count": 5,
   "metadata": {
    "collapsed": false,
    "deletable": true,
    "editable": true
   },
   "outputs": [],
   "source": [
    "\"\"\"\n",
    "DON'T MODIFY ANYTHING IN THIS CELL\n",
    "\"\"\"\n",
    "# Preprocess Training, Validation, and Testing Data\n",
    "helper.preprocess_and_save_data(data_dir, token_lookup, create_lookup_tables)"
   ]
  },
  {
   "cell_type": "markdown",
   "metadata": {
    "deletable": true,
    "editable": true
   },
   "source": [
    "# Check Point\n",
    "This is your first checkpoint. If you ever decide to come back to this notebook or have to restart the notebook, you can start from here. The preprocessed data has been saved to disk."
   ]
  },
  {
   "cell_type": "code",
   "execution_count": 6,
   "metadata": {
    "collapsed": false,
    "deletable": true,
    "editable": true
   },
   "outputs": [],
   "source": [
    "\"\"\"\n",
    "DON'T MODIFY ANYTHING IN THIS CELL\n",
    "\"\"\"\n",
    "import helper\n",
    "import numpy as np\n",
    "import problem_unittests as tests\n",
    "\n",
    "int_text, vocab_to_int, int_to_vocab, token_dict = helper.load_preprocess()"
   ]
  },
  {
   "cell_type": "markdown",
   "metadata": {
    "deletable": true,
    "editable": true
   },
   "source": [
    "## Build the Neural Network\n",
    "You'll build the components necessary to build a RNN by implementing the following functions below:\n",
    "- get_inputs\n",
    "- get_init_cell\n",
    "- get_embed\n",
    "- build_rnn\n",
    "- build_nn\n",
    "- get_batches\n",
    "\n",
    "### Check the Version of TensorFlow and Access to GPU"
   ]
  },
  {
   "cell_type": "code",
   "execution_count": 7,
   "metadata": {
    "collapsed": false,
    "deletable": true,
    "editable": true
   },
   "outputs": [
    {
     "name": "stdout",
     "output_type": "stream",
     "text": [
      "TensorFlow Version: 1.0.0\n",
      "Default GPU Device: /gpu:0\n"
     ]
    }
   ],
   "source": [
    "\"\"\"\n",
    "DON'T MODIFY ANYTHING IN THIS CELL\n",
    "\"\"\"\n",
    "from distutils.version import LooseVersion\n",
    "import warnings\n",
    "import tensorflow as tf\n",
    "\n",
    "# Check TensorFlow Version\n",
    "assert LooseVersion(tf.__version__) >= LooseVersion('1.0'), 'Please use TensorFlow version 1.0 or newer'\n",
    "print('TensorFlow Version: {}'.format(tf.__version__))\n",
    "\n",
    "# Check for a GPU\n",
    "if not tf.test.gpu_device_name():\n",
    "    warnings.warn('No GPU found. Please use a GPU to train your neural network.')\n",
    "else:\n",
    "    print('Default GPU Device: {}'.format(tf.test.gpu_device_name()))"
   ]
  },
  {
   "cell_type": "markdown",
   "metadata": {
    "deletable": true,
    "editable": true
   },
   "source": [
    "### Input\n",
    "Implement the `get_inputs()` function to create TF Placeholders for the Neural Network.  It should create the following placeholders:\n",
    "- Input text placeholder named \"input\" using the [TF Placeholder](https://www.tensorflow.org/api_docs/python/tf/placeholder) `name` parameter.\n",
    "- Targets placeholder\n",
    "- Learning Rate placeholder\n",
    "\n",
    "Return the placeholders in the following the tuple `(Input, Targets, LearingRate)`"
   ]
  },
  {
   "cell_type": "code",
   "execution_count": 8,
   "metadata": {
    "collapsed": false,
    "deletable": true,
    "editable": true
   },
   "outputs": [
    {
     "name": "stdout",
     "output_type": "stream",
     "text": [
      "Tests Passed\n"
     ]
    }
   ],
   "source": [
    "def get_inputs():\n",
    "    \"\"\"\n",
    "    Create TF Placeholders for input, targets, and learning rate.\n",
    "    :return: Tuple (input, targets, learning rate)\n",
    "    \"\"\"\n",
    "    # TODO: Implement Function\n",
    "    inputs = tf.placeholder(tf.int32, [None, None], name=\"input\")\n",
    "    targets = tf.placeholder(tf.int32, [None, None], name=\"targets\")\n",
    "    learning_rate = tf.placeholder(tf.float32, name=\"learning_rate\")\n",
    "    \n",
    "    return inputs, targets, learning_rate\n",
    "\n",
    "\n",
    "\"\"\"\n",
    "DON'T MODIFY ANYTHING IN THIS CELL THAT IS BELOW THIS LINE\n",
    "\"\"\"\n",
    "tests.test_get_inputs(get_inputs)"
   ]
  },
  {
   "cell_type": "markdown",
   "metadata": {
    "deletable": true,
    "editable": true
   },
   "source": [
    "### Build RNN Cell and Initialize\n",
    "Stack one or more [`BasicLSTMCells`](https://www.tensorflow.org/api_docs/python/tf/contrib/rnn/BasicLSTMCell) in a [`MultiRNNCell`](https://www.tensorflow.org/api_docs/python/tf/contrib/rnn/MultiRNNCell).\n",
    "- The Rnn size should be set using `rnn_size`\n",
    "- Initalize Cell State using the MultiRNNCell's [`zero_state()`](https://www.tensorflow.org/api_docs/python/tf/contrib/rnn/MultiRNNCell#zero_state) function\n",
    "    - Apply the name \"initial_state\" to the initial state using [`tf.identity()`](https://www.tensorflow.org/api_docs/python/tf/identity)\n",
    "\n",
    "Return the cell and initial state in the following tuple `(Cell, InitialState)`"
   ]
  },
  {
   "cell_type": "code",
   "execution_count": 9,
   "metadata": {
    "collapsed": false,
    "deletable": true,
    "editable": true
   },
   "outputs": [
    {
     "name": "stdout",
     "output_type": "stream",
     "text": [
      "Tests Passed\n"
     ]
    }
   ],
   "source": [
    "def get_init_cell(batch_size, rnn_size):\n",
    "    \"\"\"\n",
    "    Create an RNN Cell and initialize it.\n",
    "    :param batch_size: Size of batches\n",
    "    :param rnn_size: Size of RNNs\n",
    "    :return: Tuple (cell, initialize state)\n",
    "    \"\"\"\n",
    "    # TODO: Implement Function\n",
    "    lstm = tf.contrib.rnn.BasicLSTMCell(rnn_size)\n",
    "    cell = tf.contrib.rnn.MultiRNNCell([lstm], [lstm])\n",
    "    initial_state = cell.zero_state(batch_size, tf.float32)\n",
    "    initial_state = tf.identity(initial_state, name = 'initial_state')\n",
    "    \n",
    "    return cell, initial_state\n",
    "\n",
    "\n",
    "\"\"\"\n",
    "DON'T MODIFY ANYTHING IN THIS CELL THAT IS BELOW THIS LINE\n",
    "\"\"\"\n",
    "tests.test_get_init_cell(get_init_cell)"
   ]
  },
  {
   "cell_type": "markdown",
   "metadata": {
    "deletable": true,
    "editable": true
   },
   "source": [
    "### Word Embedding\n",
    "Apply embedding to `input_data` using TensorFlow.  Return the embedded sequence."
   ]
  },
  {
   "cell_type": "code",
   "execution_count": 10,
   "metadata": {
    "collapsed": false,
    "deletable": true,
    "editable": true
   },
   "outputs": [
    {
     "name": "stdout",
     "output_type": "stream",
     "text": [
      "Tests Passed\n"
     ]
    }
   ],
   "source": [
    "def get_embed(input_data, vocab_size, embed_dim):\n",
    "    \"\"\"\n",
    "    Create embedding for <input_data>.\n",
    "    :param input_data: TF placeholder for text input.\n",
    "    :param vocab_size: Number of words in vocabulary.\n",
    "    :param embed_dim: Number of embedding dimensions\n",
    "    :return: Embedded input.\n",
    "    \"\"\"\n",
    "    # TODO: Implement Function\n",
    "    return tf.contrib.layers.embed_sequence(input_data, vocab_size, embed_dim)\n",
    "\n",
    "\"\"\"\n",
    "DON'T MODIFY ANYTHING IN THIS CELL THAT IS BELOW THIS LINE\n",
    "\"\"\"\n",
    "tests.test_get_embed(get_embed)"
   ]
  },
  {
   "cell_type": "markdown",
   "metadata": {
    "deletable": true,
    "editable": true
   },
   "source": [
    "### Build RNN\n",
    "You created a RNN Cell in the `get_init_cell()` function.  Time to use the cell to create a RNN.\n",
    "- Build the RNN using the [`tf.nn.dynamic_rnn()`](https://www.tensorflow.org/api_docs/python/tf/nn/dynamic_rnn)\n",
    " - Apply the name \"final_state\" to the final state using [`tf.identity()`](https://www.tensorflow.org/api_docs/python/tf/identity)\n",
    "\n",
    "Return the outputs and final_state state in the following tuple `(Outputs, FinalState)` "
   ]
  },
  {
   "cell_type": "code",
   "execution_count": 12,
   "metadata": {
    "collapsed": false,
    "deletable": true,
    "editable": true
   },
   "outputs": [
    {
     "name": "stdout",
     "output_type": "stream",
     "text": [
      "Tests Passed\n"
     ]
    }
   ],
   "source": [
    "def build_rnn(cell, inputs):\n",
    "    \"\"\"\n",
    "    Create a RNN using a RNN Cell\n",
    "    :param cell: RNN Cell\n",
    "    :param inputs: Input text data\n",
    "    :return: Tuple (Outputs, Final State)\n",
    "    \"\"\"\n",
    "    # TODO: Implement Function\n",
    "    outputs, final_state = tf.nn.dynamic_rnn(cell, inputs, dtype=tf.float32,)\n",
    "    final_state = tf.identity(final_state, name = 'final_state')\n",
    "    \n",
    "    return outputs, final_state\n",
    "\n",
    "\n",
    "\"\"\"\n",
    "DON'T MODIFY ANYTHING IN THIS CELL THAT IS BELOW THIS LINE\n",
    "\"\"\"\n",
    "tests.test_build_rnn(build_rnn)"
   ]
  },
  {
   "cell_type": "markdown",
   "metadata": {
    "deletable": true,
    "editable": true
   },
   "source": [
    "### Build the Neural Network\n",
    "Apply the functions you implemented above to:\n",
    "- Apply embedding to `input_data` using your `get_embed(input_data, vocab_size, embed_dim)` function.\n",
    "- Build RNN using `cell` and your `build_rnn(cell, inputs)` function.\n",
    "- Apply a fully connected layer with a linear activation and `vocab_size` as the number of outputs.\n",
    "\n",
    "Return the logits and final state in the following tuple (Logits, FinalState) "
   ]
  },
  {
   "cell_type": "code",
   "execution_count": 13,
   "metadata": {
    "collapsed": false,
    "deletable": true,
    "editable": true
   },
   "outputs": [
    {
     "name": "stdout",
     "output_type": "stream",
     "text": [
      "Tests Passed\n"
     ]
    }
   ],
   "source": [
    "def build_nn(cell, rnn_size, input_data, vocab_size):\n",
    "    \"\"\"\n",
    "    Build part of the neural network\n",
    "    :param cell: RNN cell\n",
    "    :param rnn_size: Size of rnns\n",
    "    :param input_data: Input data\n",
    "    :param vocab_size: Vocabulary size\n",
    "    :return: Tuple (Logits, FinalState)\n",
    "    \"\"\"\n",
    "    # TODO: Implement Function\n",
    "    embed = get_embed(input_data, vocab_size, rnn_size)\n",
    "    rnn, final_state = build_rnn(cell, embed)\n",
    "    \n",
    "    logits = tf.contrib.layers.fully_connected(rnn, vocab_size, activation_fn=None)\n",
    "    \n",
    "    return logits, final_state\n",
    "\n",
    "\n",
    "\"\"\"\n",
    "DON'T MODIFY ANYTHING IN THIS CELL THAT IS BELOW THIS LINE\n",
    "\"\"\"\n",
    "tests.test_build_nn(build_nn)"
   ]
  },
  {
   "cell_type": "markdown",
   "metadata": {
    "deletable": true,
    "editable": true
   },
   "source": [
    "### Batches\n",
    "Implement `get_batches` to create batches of input and targets using `int_text`.  The batches should be a Numpy array with the shape `(number of batches, 2, batch size, sequence length)`. Each batch contains two elements:\n",
    "- The first element is a single batch of **input** with the shape `[batch size, sequence length]`\n",
    "- The second element is a single batch of **targets** with the shape `[batch size, sequence length]`\n",
    "\n",
    "If you can't fill the last batch with enough data, drop the last batch.\n",
    "\n",
    "For exmple, `get_batches([1, 2, 3, 4, 5, 6, 7, 8, 9, 10, 11, 12, 13, 14, 15], 2, 3)` would return a Numpy array of the following:\n",
    "```\n",
    "[\n",
    "  # First Batch\n",
    "  [\n",
    "    # Batch of Input\n",
    "    [[ 1  2  3], [ 7  8  9]],\n",
    "    # Batch of targets\n",
    "    [[ 2  3  4], [ 8  9 10]]\n",
    "  ],\n",
    " \n",
    "  # Second Batch\n",
    "  [\n",
    "    # Batch of Input\n",
    "    [[ 4  5  6], [10 11 12]],\n",
    "    # Batch of targets\n",
    "    [[ 5  6  7], [11 12 13]]\n",
    "  ]\n",
    "]\n",
    "```"
   ]
  },
  {
   "cell_type": "code",
   "execution_count": 14,
   "metadata": {
    "collapsed": false,
    "deletable": true,
    "editable": true
   },
   "outputs": [
    {
     "name": "stdout",
     "output_type": "stream",
     "text": [
      "Tests Passed\n"
     ]
    }
   ],
   "source": [
    "def get_batches(int_text, batch_size, seq_length):\n",
    "    \"\"\"\n",
    "    Return batches of input and target\n",
    "    :param int_text: Text with the words replaced by their ids\n",
    "    :param batch_size: The size of batch\n",
    "    :param seq_length: The length of sequence\n",
    "    :return: Batches as a Numpy array\n",
    "    \"\"\"\n",
    "    # TODO: Implement Function\n",
    "    inputs = int_text[:len(int_text)-1]\n",
    "    targets = int_text[1:]\n",
    "    n_elem_batch = batch_size * seq_length\n",
    "    \n",
    "    input_length = len(inputs)\n",
    "    upper_cutoff = input_length - (input_length % n_elem_batch)\n",
    "    input_target_pairs = [ ([inputs[i] for i in range(x, x + seq_length)], \n",
    "                            [targets[i] for i in range(x, x + seq_length)]\n",
    "                           ) for x in range(0, upper_cutoff, seq_length)]\n",
    "    \n",
    "    no_of_batches = int(upper_cutoff / n_elem_batch)\n",
    "    batches = np.zeros((no_of_batches, 2, batch_size, seq_length), dtype=int)\n",
    "    \n",
    "    i = 0\n",
    "    for bs in range(batch_size):\n",
    "        for n in range(no_of_batches):\n",
    "            batches[n][0][bs] = input_target_pairs[i][0]\n",
    "            batches[n][1][bs] = input_target_pairs[i][1] \n",
    "            i += 1\n",
    "            \n",
    "    return batches\n",
    "\n",
    "\n",
    "\"\"\"\n",
    "DON'T MODIFY ANYTHING IN THIS CELL THAT IS BELOW THIS LINE\n",
    "\"\"\"\n",
    "tests.test_get_batches(get_batches)"
   ]
  },
  {
   "cell_type": "markdown",
   "metadata": {
    "deletable": true,
    "editable": true
   },
   "source": [
    "## Neural Network Training\n",
    "### Hyperparameters\n",
    "Tune the following parameters:\n",
    "\n",
    "- Set `num_epochs` to the number of epochs.\n",
    "- Set `batch_size` to the batch size.\n",
    "- Set `rnn_size` to the size of the RNNs.\n",
    "- Set `seq_length` to the length of sequence.\n",
    "- Set `learning_rate` to the learning rate.\n",
    "- Set `show_every_n_batches` to the number of batches the neural network should print progress."
   ]
  },
  {
   "cell_type": "code",
   "execution_count": 18,
   "metadata": {
    "collapsed": true,
    "deletable": true,
    "editable": true
   },
   "outputs": [],
   "source": [
    "# Number of Epochs\n",
    "num_epochs = 100\n",
    "# Batch Size\n",
    "batch_size = 128\n",
    "# RNN Size\n",
    "rnn_size = 300\n",
    "# Sequence Length\n",
    "seq_length = 25\n",
    "# Learning Rate\n",
    "learning_rate = 0.01\n",
    "# Show stats for every n number of batches\n",
    "show_every_n_batches = 10\n",
    "\n",
    "\"\"\"\n",
    "DON'T MODIFY ANYTHING IN THIS CELL THAT IS BELOW THIS LINE\n",
    "\"\"\"\n",
    "save_dir = './save'"
   ]
  },
  {
   "cell_type": "markdown",
   "metadata": {
    "deletable": true,
    "editable": true
   },
   "source": [
    "### Build the Graph\n",
    "Build the graph using the neural network you implemented."
   ]
  },
  {
   "cell_type": "code",
   "execution_count": 19,
   "metadata": {
    "collapsed": false,
    "deletable": true,
    "editable": true
   },
   "outputs": [],
   "source": [
    "\"\"\"\n",
    "DON'T MODIFY ANYTHING IN THIS CELL\n",
    "\"\"\"\n",
    "from tensorflow.contrib import seq2seq\n",
    "\n",
    "train_graph = tf.Graph()\n",
    "with train_graph.as_default():\n",
    "    vocab_size = len(int_to_vocab)\n",
    "    input_text, targets, lr = get_inputs()\n",
    "    input_data_shape = tf.shape(input_text)\n",
    "    cell, initial_state = get_init_cell(input_data_shape[0], rnn_size)\n",
    "    logits, final_state = build_nn(cell, rnn_size, input_text, vocab_size)\n",
    "\n",
    "    # Probabilities for generating words\n",
    "    probs = tf.nn.softmax(logits, name='probs')\n",
    "\n",
    "    # Loss function\n",
    "    cost = seq2seq.sequence_loss(\n",
    "        logits,\n",
    "        targets,\n",
    "        tf.ones([input_data_shape[0], input_data_shape[1]]))\n",
    "\n",
    "    # Optimizer\n",
    "    optimizer = tf.train.AdamOptimizer(lr)\n",
    "\n",
    "    # Gradient Clipping\n",
    "    gradients = optimizer.compute_gradients(cost)\n",
    "    capped_gradients = [(tf.clip_by_value(grad, -1., 1.), var) for grad, var in gradients]\n",
    "    train_op = optimizer.apply_gradients(capped_gradients)"
   ]
  },
  {
   "cell_type": "markdown",
   "metadata": {
    "deletable": true,
    "editable": true
   },
   "source": [
    "## Train\n",
    "Train the neural network on the preprocessed data.  If you have a hard time getting a good loss, check the [forms](https://discussions.udacity.com/) to see if anyone is having the same problem."
   ]
  },
  {
   "cell_type": "code",
   "execution_count": 20,
   "metadata": {
    "collapsed": false,
    "deletable": true,
    "editable": true
   },
   "outputs": [
    {
     "name": "stdout",
     "output_type": "stream",
     "text": [
      "Epoch   0 Batch    0/21   train_loss = 8.822\n",
      "Epoch   0 Batch   10/21   train_loss = 6.878\n",
      "Epoch   0 Batch   20/21   train_loss = 6.248\n",
      "Epoch   1 Batch    9/21   train_loss = 5.802\n",
      "Epoch   1 Batch   19/21   train_loss = 5.430\n",
      "Epoch   2 Batch    8/21   train_loss = 5.188\n",
      "Epoch   2 Batch   18/21   train_loss = 5.042\n",
      "Epoch   3 Batch    7/21   train_loss = 4.771\n",
      "Epoch   3 Batch   17/21   train_loss = 4.732\n",
      "Epoch   4 Batch    6/21   train_loss = 4.653\n",
      "Epoch   4 Batch   16/21   train_loss = 4.450\n",
      "Epoch   5 Batch    5/21   train_loss = 4.402\n",
      "Epoch   5 Batch   15/21   train_loss = 4.232\n",
      "Epoch   6 Batch    4/21   train_loss = 4.237\n",
      "Epoch   6 Batch   14/21   train_loss = 3.987\n",
      "Epoch   7 Batch    3/21   train_loss = 3.997\n",
      "Epoch   7 Batch   13/21   train_loss = 3.901\n",
      "Epoch   8 Batch    2/21   train_loss = 3.801\n",
      "Epoch   8 Batch   12/21   train_loss = 3.678\n",
      "Epoch   9 Batch    1/21   train_loss = 3.621\n",
      "Epoch   9 Batch   11/21   train_loss = 3.390\n",
      "Epoch  10 Batch    0/21   train_loss = 3.364\n",
      "Epoch  10 Batch   10/21   train_loss = 3.308\n",
      "Epoch  10 Batch   20/21   train_loss = 3.185\n",
      "Epoch  11 Batch    9/21   train_loss = 3.173\n",
      "Epoch  11 Batch   19/21   train_loss = 3.024\n",
      "Epoch  12 Batch    8/21   train_loss = 3.057\n",
      "Epoch  12 Batch   18/21   train_loss = 2.942\n",
      "Epoch  13 Batch    7/21   train_loss = 2.835\n",
      "Epoch  13 Batch   17/21   train_loss = 2.741\n",
      "Epoch  14 Batch    6/21   train_loss = 2.763\n",
      "Epoch  14 Batch   16/21   train_loss = 2.643\n",
      "Epoch  15 Batch    5/21   train_loss = 2.609\n",
      "Epoch  15 Batch   15/21   train_loss = 2.521\n",
      "Epoch  16 Batch    4/21   train_loss = 2.481\n",
      "Epoch  16 Batch   14/21   train_loss = 2.415\n",
      "Epoch  17 Batch    3/21   train_loss = 2.417\n",
      "Epoch  17 Batch   13/21   train_loss = 2.345\n",
      "Epoch  18 Batch    2/21   train_loss = 2.290\n",
      "Epoch  18 Batch   12/21   train_loss = 2.215\n",
      "Epoch  19 Batch    1/21   train_loss = 2.254\n",
      "Epoch  19 Batch   11/21   train_loss = 2.177\n",
      "Epoch  20 Batch    0/21   train_loss = 2.212\n",
      "Epoch  20 Batch   10/21   train_loss = 2.011\n",
      "Epoch  20 Batch   20/21   train_loss = 2.002\n",
      "Epoch  21 Batch    9/21   train_loss = 2.017\n",
      "Epoch  21 Batch   19/21   train_loss = 2.113\n",
      "Epoch  22 Batch    8/21   train_loss = 2.175\n",
      "Epoch  22 Batch   18/21   train_loss = 2.087\n",
      "Epoch  23 Batch    7/21   train_loss = 1.982\n",
      "Epoch  23 Batch   17/21   train_loss = 1.844\n",
      "Epoch  24 Batch    6/21   train_loss = 1.844\n",
      "Epoch  24 Batch   16/21   train_loss = 1.778\n",
      "Epoch  25 Batch    5/21   train_loss = 1.772\n",
      "Epoch  25 Batch   15/21   train_loss = 1.661\n",
      "Epoch  26 Batch    4/21   train_loss = 1.595\n",
      "Epoch  26 Batch   14/21   train_loss = 1.556\n",
      "Epoch  27 Batch    3/21   train_loss = 1.529\n",
      "Epoch  27 Batch   13/21   train_loss = 1.505\n",
      "Epoch  28 Batch    2/21   train_loss = 1.419\n",
      "Epoch  28 Batch   12/21   train_loss = 1.382\n",
      "Epoch  29 Batch    1/21   train_loss = 1.414\n",
      "Epoch  29 Batch   11/21   train_loss = 1.371\n",
      "Epoch  30 Batch    0/21   train_loss = 1.375\n",
      "Epoch  30 Batch   10/21   train_loss = 1.250\n",
      "Epoch  30 Batch   20/21   train_loss = 1.227\n",
      "Epoch  31 Batch    9/21   train_loss = 1.254\n",
      "Epoch  31 Batch   19/21   train_loss = 1.285\n",
      "Epoch  32 Batch    8/21   train_loss = 1.291\n",
      "Epoch  32 Batch   18/21   train_loss = 1.233\n",
      "Epoch  33 Batch    7/21   train_loss = 1.205\n",
      "Epoch  33 Batch   17/21   train_loss = 1.167\n",
      "Epoch  34 Batch    6/21   train_loss = 1.158\n",
      "Epoch  34 Batch   16/21   train_loss = 1.162\n",
      "Epoch  35 Batch    5/21   train_loss = 1.131\n",
      "Epoch  35 Batch   15/21   train_loss = 1.090\n",
      "Epoch  36 Batch    4/21   train_loss = 1.083\n",
      "Epoch  36 Batch   14/21   train_loss = 1.100\n",
      "Epoch  37 Batch    3/21   train_loss = 1.082\n",
      "Epoch  37 Batch   13/21   train_loss = 1.055\n",
      "Epoch  38 Batch    2/21   train_loss = 0.957\n",
      "Epoch  38 Batch   12/21   train_loss = 0.965\n",
      "Epoch  39 Batch    1/21   train_loss = 0.996\n",
      "Epoch  39 Batch   11/21   train_loss = 1.000\n",
      "Epoch  40 Batch    0/21   train_loss = 0.979\n",
      "Epoch  40 Batch   10/21   train_loss = 0.870\n",
      "Epoch  40 Batch   20/21   train_loss = 0.831\n",
      "Epoch  41 Batch    9/21   train_loss = 0.830\n",
      "Epoch  41 Batch   19/21   train_loss = 0.893\n",
      "Epoch  42 Batch    8/21   train_loss = 0.849\n",
      "Epoch  42 Batch   18/21   train_loss = 0.811\n",
      "Epoch  43 Batch    7/21   train_loss = 0.787\n",
      "Epoch  43 Batch   17/21   train_loss = 0.761\n",
      "Epoch  44 Batch    6/21   train_loss = 0.725\n",
      "Epoch  44 Batch   16/21   train_loss = 0.719\n",
      "Epoch  45 Batch    5/21   train_loss = 0.684\n",
      "Epoch  45 Batch   15/21   train_loss = 0.646\n",
      "Epoch  46 Batch    4/21   train_loss = 0.648\n",
      "Epoch  46 Batch   14/21   train_loss = 0.642\n",
      "Epoch  47 Batch    3/21   train_loss = 0.606\n",
      "Epoch  47 Batch   13/21   train_loss = 0.616\n",
      "Epoch  48 Batch    2/21   train_loss = 0.582\n",
      "Epoch  48 Batch   12/21   train_loss = 0.556\n",
      "Epoch  49 Batch    1/21   train_loss = 0.592\n",
      "Epoch  49 Batch   11/21   train_loss = 0.581\n",
      "Epoch  50 Batch    0/21   train_loss = 0.569\n",
      "Epoch  50 Batch   10/21   train_loss = 0.502\n",
      "Epoch  50 Batch   20/21   train_loss = 0.487\n",
      "Epoch  51 Batch    9/21   train_loss = 0.506\n",
      "Epoch  51 Batch   19/21   train_loss = 0.577\n",
      "Epoch  52 Batch    8/21   train_loss = 0.528\n",
      "Epoch  52 Batch   18/21   train_loss = 0.524\n",
      "Epoch  53 Batch    7/21   train_loss = 0.505\n",
      "Epoch  53 Batch   17/21   train_loss = 0.502\n",
      "Epoch  54 Batch    6/21   train_loss = 0.493\n",
      "Epoch  54 Batch   16/21   train_loss = 0.482\n",
      "Epoch  55 Batch    5/21   train_loss = 0.486\n",
      "Epoch  55 Batch   15/21   train_loss = 0.451\n",
      "Epoch  56 Batch    4/21   train_loss = 0.469\n",
      "Epoch  56 Batch   14/21   train_loss = 0.495\n",
      "Epoch  57 Batch    3/21   train_loss = 0.466\n",
      "Epoch  57 Batch   13/21   train_loss = 0.476\n",
      "Epoch  58 Batch    2/21   train_loss = 0.449\n",
      "Epoch  58 Batch   12/21   train_loss = 0.455\n",
      "Epoch  59 Batch    1/21   train_loss = 0.488\n",
      "Epoch  59 Batch   11/21   train_loss = 0.472\n",
      "Epoch  60 Batch    0/21   train_loss = 0.466\n",
      "Epoch  60 Batch   10/21   train_loss = 0.436\n",
      "Epoch  60 Batch   20/21   train_loss = 0.409\n",
      "Epoch  61 Batch    9/21   train_loss = 0.419\n",
      "Epoch  61 Batch   19/21   train_loss = 0.472\n",
      "Epoch  62 Batch    8/21   train_loss = 0.442\n",
      "Epoch  62 Batch   18/21   train_loss = 0.425\n",
      "Epoch  63 Batch    7/21   train_loss = 0.417\n",
      "Epoch  63 Batch   17/21   train_loss = 0.408\n",
      "Epoch  64 Batch    6/21   train_loss = 0.388\n",
      "Epoch  64 Batch   16/21   train_loss = 0.379\n",
      "Epoch  65 Batch    5/21   train_loss = 0.364\n",
      "Epoch  65 Batch   15/21   train_loss = 0.349\n",
      "Epoch  66 Batch    4/21   train_loss = 0.349\n",
      "Epoch  66 Batch   14/21   train_loss = 0.350\n",
      "Epoch  67 Batch    3/21   train_loss = 0.347\n",
      "Epoch  67 Batch   13/21   train_loss = 0.325\n",
      "Epoch  68 Batch    2/21   train_loss = 0.301\n",
      "Epoch  68 Batch   12/21   train_loss = 0.305\n",
      "Epoch  69 Batch    1/21   train_loss = 0.329\n",
      "Epoch  69 Batch   11/21   train_loss = 0.308\n",
      "Epoch  70 Batch    0/21   train_loss = 0.291\n",
      "Epoch  70 Batch   10/21   train_loss = 0.270\n",
      "Epoch  70 Batch   20/21   train_loss = 0.252\n",
      "Epoch  71 Batch    9/21   train_loss = 0.267\n",
      "Epoch  71 Batch   19/21   train_loss = 0.300\n",
      "Epoch  72 Batch    8/21   train_loss = 0.274\n",
      "Epoch  72 Batch   18/21   train_loss = 0.256\n",
      "Epoch  73 Batch    7/21   train_loss = 0.260\n",
      "Epoch  73 Batch   17/21   train_loss = 0.254\n",
      "Epoch  74 Batch    6/21   train_loss = 0.244\n",
      "Epoch  74 Batch   16/21   train_loss = 0.231\n",
      "Epoch  75 Batch    5/21   train_loss = 0.216\n",
      "Epoch  75 Batch   15/21   train_loss = 0.210\n",
      "Epoch  76 Batch    4/21   train_loss = 0.218\n",
      "Epoch  76 Batch   14/21   train_loss = 0.215\n",
      "Epoch  77 Batch    3/21   train_loss = 0.202\n",
      "Epoch  77 Batch   13/21   train_loss = 0.210\n",
      "Epoch  78 Batch    2/21   train_loss = 0.198\n",
      "Epoch  78 Batch   12/21   train_loss = 0.206\n",
      "Epoch  79 Batch    1/21   train_loss = 0.217\n",
      "Epoch  79 Batch   11/21   train_loss = 0.210\n",
      "Epoch  80 Batch    0/21   train_loss = 0.197\n",
      "Epoch  80 Batch   10/21   train_loss = 0.195\n",
      "Epoch  80 Batch   20/21   train_loss = 0.182\n",
      "Epoch  81 Batch    9/21   train_loss = 0.206\n",
      "Epoch  81 Batch   19/21   train_loss = 0.226\n",
      "Epoch  82 Batch    8/21   train_loss = 0.201\n",
      "Epoch  82 Batch   18/21   train_loss = 0.209\n",
      "Epoch  83 Batch    7/21   train_loss = 0.212\n",
      "Epoch  83 Batch   17/21   train_loss = 0.213\n",
      "Epoch  84 Batch    6/21   train_loss = 0.204\n",
      "Epoch  84 Batch   16/21   train_loss = 0.199\n",
      "Epoch  85 Batch    5/21   train_loss = 0.194\n",
      "Epoch  85 Batch   15/21   train_loss = 0.180\n",
      "Epoch  86 Batch    4/21   train_loss = 0.182\n",
      "Epoch  86 Batch   14/21   train_loss = 0.184\n",
      "Epoch  87 Batch    3/21   train_loss = 0.175\n",
      "Epoch  87 Batch   13/21   train_loss = 0.180\n",
      "Epoch  88 Batch    2/21   train_loss = 0.169\n",
      "Epoch  88 Batch   12/21   train_loss = 0.173\n",
      "Epoch  89 Batch    1/21   train_loss = 0.179\n",
      "Epoch  89 Batch   11/21   train_loss = 0.171\n",
      "Epoch  90 Batch    0/21   train_loss = 0.165\n",
      "Epoch  90 Batch   10/21   train_loss = 0.159\n",
      "Epoch  90 Batch   20/21   train_loss = 0.146\n",
      "Epoch  91 Batch    9/21   train_loss = 0.162\n",
      "Epoch  91 Batch   19/21   train_loss = 0.165\n",
      "Epoch  92 Batch    8/21   train_loss = 0.159\n",
      "Epoch  92 Batch   18/21   train_loss = 0.151\n",
      "Epoch  93 Batch    7/21   train_loss = 0.161\n",
      "Epoch  93 Batch   17/21   train_loss = 0.156\n",
      "Epoch  94 Batch    6/21   train_loss = 0.143\n",
      "Epoch  94 Batch   16/21   train_loss = 0.138\n",
      "Epoch  95 Batch    5/21   train_loss = 0.133\n",
      "Epoch  95 Batch   15/21   train_loss = 0.132\n",
      "Epoch  96 Batch    4/21   train_loss = 0.137\n",
      "Epoch  96 Batch   14/21   train_loss = 0.136\n",
      "Epoch  97 Batch    3/21   train_loss = 0.128\n",
      "Epoch  97 Batch   13/21   train_loss = 0.137\n",
      "Epoch  98 Batch    2/21   train_loss = 0.134\n",
      "Epoch  98 Batch   12/21   train_loss = 0.134\n",
      "Epoch  99 Batch    1/21   train_loss = 0.140\n",
      "Epoch  99 Batch   11/21   train_loss = 0.126\n",
      "Model Trained and Saved\n"
     ]
    }
   ],
   "source": [
    "\"\"\"\n",
    "DON'T MODIFY ANYTHING IN THIS CELL\n",
    "\"\"\"\n",
    "batches = get_batches(int_text, batch_size, seq_length)\n",
    "\n",
    "with tf.Session(graph=train_graph) as sess:\n",
    "    sess.run(tf.global_variables_initializer())\n",
    "\n",
    "    for epoch_i in range(num_epochs):\n",
    "        state = sess.run(initial_state, {input_text: batches[0][0]})\n",
    "\n",
    "        for batch_i, (x, y) in enumerate(batches):\n",
    "            feed = {\n",
    "                input_text: x,\n",
    "                targets: y,\n",
    "                initial_state: state,\n",
    "                lr: learning_rate}\n",
    "            train_loss, state, _ = sess.run([cost, final_state, train_op], feed)\n",
    "\n",
    "            # Show every <show_every_n_batches> batches\n",
    "            if (epoch_i * len(batches) + batch_i) % show_every_n_batches == 0:\n",
    "                print('Epoch {:>3} Batch {:>4}/{}   train_loss = {:.3f}'.format(\n",
    "                    epoch_i,\n",
    "                    batch_i,\n",
    "                    len(batches),\n",
    "                    train_loss))\n",
    "\n",
    "    # Save Model\n",
    "    saver = tf.train.Saver()\n",
    "    saver.save(sess, save_dir)\n",
    "    print('Model Trained and Saved')"
   ]
  },
  {
   "cell_type": "markdown",
   "metadata": {
    "deletable": true,
    "editable": true
   },
   "source": [
    "## Save Parameters\n",
    "Save `seq_length` and `save_dir` for generating a new TV script."
   ]
  },
  {
   "cell_type": "code",
   "execution_count": 21,
   "metadata": {
    "collapsed": false,
    "deletable": true,
    "editable": true
   },
   "outputs": [],
   "source": [
    "\"\"\"\n",
    "DON'T MODIFY ANYTHING IN THIS CELL\n",
    "\"\"\"\n",
    "# Save parameters for checkpoint\n",
    "helper.save_params((seq_length, save_dir))"
   ]
  },
  {
   "cell_type": "markdown",
   "metadata": {
    "deletable": true,
    "editable": true
   },
   "source": [
    "# Checkpoint"
   ]
  },
  {
   "cell_type": "code",
   "execution_count": 22,
   "metadata": {
    "collapsed": false,
    "deletable": true,
    "editable": true
   },
   "outputs": [],
   "source": [
    "\"\"\"\n",
    "DON'T MODIFY ANYTHING IN THIS CELL\n",
    "\"\"\"\n",
    "import tensorflow as tf\n",
    "import numpy as np\n",
    "import helper\n",
    "import problem_unittests as tests\n",
    "\n",
    "_, vocab_to_int, int_to_vocab, token_dict = helper.load_preprocess()\n",
    "seq_length, load_dir = helper.load_params()"
   ]
  },
  {
   "cell_type": "markdown",
   "metadata": {
    "deletable": true,
    "editable": true
   },
   "source": [
    "## Implement Generate Functions\n",
    "### Get Tensors\n",
    "Get tensors from `loaded_graph` using the function [`get_tensor_by_name()`](https://www.tensorflow.org/api_docs/python/tf/Graph#get_tensor_by_name).  Get the tensors using the following names:\n",
    "- \"input:0\"\n",
    "- \"initial_state:0\"\n",
    "- \"final_state:0\"\n",
    "- \"probs:0\"\n",
    "\n",
    "Return the tensors in the following tuple `(InputTensor, InitialStateTensor, FinalStateTensor, ProbsTensor)` "
   ]
  },
  {
   "cell_type": "code",
   "execution_count": 23,
   "metadata": {
    "collapsed": false,
    "deletable": true,
    "editable": true
   },
   "outputs": [
    {
     "name": "stdout",
     "output_type": "stream",
     "text": [
      "Tests Passed\n"
     ]
    }
   ],
   "source": [
    "def get_tensors(loaded_graph):\n",
    "    \"\"\"\n",
    "    Get input, initial state, final state, and probabilities tensor from <loaded_graph>\n",
    "    :param loaded_graph: TensorFlow graph loaded from file\n",
    "    :return: Tuple (InputTensor, InitialStateTensor, FinalStateTensor, ProbsTensor)\n",
    "    \"\"\"\n",
    "    # TODO: Implement Function\n",
    "    input_tensor = loaded_graph.get_tensor_by_name('input:0')\n",
    "    initial_state = loaded_graph.get_tensor_by_name('initial_state:0')\n",
    "    final_state = loaded_graph.get_tensor_by_name('final_state:0')\n",
    "    probs = loaded_graph.get_tensor_by_name('probs:0')\n",
    "    \n",
    "    return input_tensor, initial_state, final_state, probs\n",
    "\n",
    "\n",
    "\"\"\"\n",
    "DON'T MODIFY ANYTHING IN THIS CELL THAT IS BELOW THIS LINE\n",
    "\"\"\"\n",
    "tests.test_get_tensors(get_tensors)"
   ]
  },
  {
   "cell_type": "markdown",
   "metadata": {
    "deletable": true,
    "editable": true
   },
   "source": [
    "### Choose Word\n",
    "Implement the `pick_word()` function to select the next word using `probabilities`."
   ]
  },
  {
   "cell_type": "code",
   "execution_count": 24,
   "metadata": {
    "collapsed": false,
    "deletable": true,
    "editable": true
   },
   "outputs": [
    {
     "name": "stdout",
     "output_type": "stream",
     "text": [
      "Tests Passed\n"
     ]
    }
   ],
   "source": [
    "def pick_word(probabilities, int_to_vocab):\n",
    "    \"\"\"\n",
    "    Pick the next word in the generated text\n",
    "    :param probabilities: Probabilites of the next word\n",
    "    :param int_to_vocab: Dictionary of word ids as the keys and words as the values\n",
    "    :return: String of the predicted word\n",
    "    \"\"\"\n",
    "    # TODO: Implement Function\n",
    "    t = np.cumsum(probabilities)\n",
    "    rand_s = np.sum(probabilities) * np.random.rand(1)\n",
    "    pred_word = int_to_vocab[int(np.searchsorted(t, rand_s))]\n",
    "    \n",
    "    return pred_word\n",
    "\n",
    "\n",
    "\"\"\"\n",
    "DON'T MODIFY ANYTHING IN THIS CELL THAT IS BELOW THIS LINE\n",
    "\"\"\"\n",
    "tests.test_pick_word(pick_word)"
   ]
  },
  {
   "cell_type": "markdown",
   "metadata": {
    "deletable": true,
    "editable": true
   },
   "source": [
    "## Generate TV Script\n",
    "This will generate the TV script for you.  Set `gen_length` to the length of TV script you want to generate."
   ]
  },
  {
   "cell_type": "code",
   "execution_count": 25,
   "metadata": {
    "collapsed": false,
    "deletable": true,
    "editable": true
   },
   "outputs": [
    {
     "name": "stdout",
     "output_type": "stream",
     "text": [
      "moe_szyslak: well, somebody's a grumpy gus. what's--\n",
      "homer_simpson: yoink.\n",
      "moe_szyslak: ooh!(peeved) ah, for crying out by and--\n",
      "moe_szyslak: hey, some things mean more to me than money...\n",
      "colonel:(calling down) war game's over his pocket. barney) never uh, ain't funny\n",
      "moe_szyslak: my name is more too.(belch)\n",
      "homer_simpson: barney, don't eat. i'm all alone. i'm gonna take your(air.\n",
      "\n",
      "\n",
      "moe_szyslak: moe's tavern. wanna come?\n",
      "moe_szyslak: yeah, we all been the last of my best friend.\n",
      "homer_simpson: that was really strongly about it.\n",
      "homer_simpson: were am i. m. i could hear how to turn on the bubbles?\n",
      "\n",
      "\n",
      "adult_bart: wow, this is real money.\n",
      "homer_simpson:(slyly) but, uh, how come you were never able to kill.(low voice) hey, homer. you know what i'm thinking?\n",
      "glen:(nods at homer) a little toy man will represent.\n",
      "\n"
     ]
    }
   ],
   "source": [
    "gen_length = 200\n",
    "# homer_simpson, moe_szyslak, or Barney_Gumble\n",
    "prime_word = 'moe_szyslak'\n",
    "\n",
    "\"\"\"\n",
    "DON'T MODIFY ANYTHING IN THIS CELL THAT IS BELOW THIS LINE\n",
    "\"\"\"\n",
    "loaded_graph = tf.Graph()\n",
    "with tf.Session(graph=loaded_graph) as sess:\n",
    "    # Load saved model\n",
    "    loader = tf.train.import_meta_graph(load_dir + '.meta')\n",
    "    loader.restore(sess, load_dir)\n",
    "\n",
    "    # Get Tensors from loaded model\n",
    "    input_text, initial_state, final_state, probs = get_tensors(loaded_graph)\n",
    "\n",
    "    # Sentences generation setup\n",
    "    gen_sentences = [prime_word + ':']\n",
    "    prev_state = sess.run(initial_state, {input_text: np.array([[1]])})\n",
    "\n",
    "    # Generate sentences\n",
    "    for n in range(gen_length):\n",
    "        # Dynamic Input\n",
    "        dyn_input = [[vocab_to_int[word] for word in gen_sentences[-seq_length:]]]\n",
    "        dyn_seq_length = len(dyn_input[0])\n",
    "\n",
    "        # Get Prediction\n",
    "        probabilities, prev_state = sess.run(\n",
    "            [probs, final_state],\n",
    "            {input_text: dyn_input, initial_state: prev_state})\n",
    "        \n",
    "        pred_word = pick_word(probabilities[dyn_seq_length-1], int_to_vocab)\n",
    "\n",
    "        gen_sentences.append(pred_word)\n",
    "    \n",
    "    # Remove tokens\n",
    "    tv_script = ' '.join(gen_sentences)\n",
    "    for key, token in token_dict.items():\n",
    "        ending = ' ' if key in ['\\n', '(', '\"'] else ''\n",
    "        tv_script = tv_script.replace(' ' + token.lower(), key)\n",
    "    tv_script = tv_script.replace('\\n ', '\\n')\n",
    "    tv_script = tv_script.replace('( ', '(')\n",
    "        \n",
    "    print(tv_script)"
   ]
  },
  {
   "cell_type": "markdown",
   "metadata": {
    "deletable": true,
    "editable": true
   },
   "source": [
    "# The TV Script is Nonsensical\n",
    "It's ok if the TV script doesn't make any sense.  We trained on less than a megabyte of text.  In order to get good results, you'll have to use a smaller vocabulary or get more data.  Luckly there's more data!  As we mentioned in the begging of this project, this is a subset of [another dataset](https://www.kaggle.com/wcukierski/the-simpsons-by-the-data).  We didn't have you train on all the data, because that would take too long.  However, you are free to train your neural network on all the data.  After you complete the project, of course.\n",
    "# Submitting This Project\n",
    "When submitting this project, make sure to run all the cells before saving the notebook. Save the notebook file as \"dlnd_tv_script_generation.ipynb\" and save it as a HTML file under \"File\" -> \"Download as\". Include the \"helper.py\" and \"problem_unittests.py\" files in your submission."
   ]
  }
 ],
 "metadata": {
  "kernelspec": {
   "display_name": "Python 3",
   "language": "python",
   "name": "python3"
  },
  "language_info": {
   "codemirror_mode": {
    "name": "ipython",
    "version": 3
   },
   "file_extension": ".py",
   "mimetype": "text/x-python",
   "name": "python",
   "nbconvert_exporter": "python",
   "pygments_lexer": "ipython3",
   "version": "3.5.3"
  },
  "widgets": {
   "state": {},
   "version": "1.1.2"
  }
 },
 "nbformat": 4,
 "nbformat_minor": 0
}
